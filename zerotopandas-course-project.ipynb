{
 "cells": [
  {
   "cell_type": "markdown",
   "metadata": {},
   "source": [
    "# Petrol/Gas Prices over the World\n",
    "\n",
    "This project is about analyzing the data of the petrol and gas prices over the world. The aim would be to gain insights regarding the distributions and statistics of certain parameters related to Petrol/Gas trade among countries."
   ]
  },
  {
   "cell_type": "markdown",
   "metadata": {},
   "source": [
    "## Downloading the Dataset\n",
    "\n",
    "The raw dataset contains countries and their daily oil consumptions, world shares, yearly gallons per capita, etc. Using opendatasets library, we will download the dataset from kaggle."
   ]
  },
  {
   "cell_type": "code",
   "execution_count": 168,
   "metadata": {},
   "outputs": [],
   "source": [
    "!pip install jovian opendatasets --upgrade --quiet"
   ]
  },
  {
   "cell_type": "markdown",
   "metadata": {},
   "source": [
    "Let's begin by downloading the data, and listing the files within the dataset."
   ]
  },
  {
   "cell_type": "code",
   "execution_count": 169,
   "metadata": {},
   "outputs": [],
   "source": [
    "# Change this\n",
    "dataset_url = 'https://www.kaggle.com/datasets/zusmani/petrolgas-prices-worldwide' "
   ]
  },
  {
   "cell_type": "code",
   "execution_count": 170,
   "metadata": {},
   "outputs": [
    {
     "name": "stdout",
     "output_type": "stream",
     "text": [
      "Skipping, found downloaded files in \"./petrolgas-prices-worldwide\" (use force=True to force download)\n"
     ]
    }
   ],
   "source": [
    "import opendatasets as od\n",
    "od.download(dataset_url)"
   ]
  },
  {
   "cell_type": "markdown",
   "metadata": {},
   "source": [
    "The dataset has been downloaded and extracted."
   ]
  },
  {
   "cell_type": "code",
   "execution_count": 171,
   "metadata": {},
   "outputs": [],
   "source": [
    "# Change this\n",
    "data_dir = './petrolgas-prices-worldwide'"
   ]
  },
  {
   "cell_type": "code",
   "execution_count": 172,
   "metadata": {},
   "outputs": [
    {
     "data": {
      "text/plain": [
       "['.ipynb_checkpoints', 'Petrol Dataset June 20 2022.csv']"
      ]
     },
     "execution_count": 172,
     "metadata": {},
     "output_type": "execute_result"
    }
   ],
   "source": [
    "import os\n",
    "os.listdir(data_dir)"
   ]
  },
  {
   "cell_type": "markdown",
   "metadata": {},
   "source": [
    "Let us save and upload our work to Jovian before continuing."
   ]
  },
  {
   "cell_type": "code",
   "execution_count": 173,
   "metadata": {},
   "outputs": [],
   "source": [
    "project_name = \"petrol_gas_world_prices\" # change this (use lowercase letters and hyphens only)"
   ]
  },
  {
   "cell_type": "code",
   "execution_count": 174,
   "metadata": {},
   "outputs": [],
   "source": [
    "!pip install jovian --upgrade -q"
   ]
  },
  {
   "cell_type": "code",
   "execution_count": 175,
   "metadata": {},
   "outputs": [],
   "source": [
    "import jovian"
   ]
  },
  {
   "cell_type": "code",
   "execution_count": 176,
   "metadata": {},
   "outputs": [
    {
     "data": {
      "application/javascript": [
       "window.require && require([\"base/js/namespace\"],function(Jupyter){Jupyter.notebook.save_checkpoint()})"
      ],
      "text/plain": [
       "<IPython.core.display.Javascript object>"
      ]
     },
     "metadata": {},
     "output_type": "display_data"
    },
    {
     "name": "stdout",
     "output_type": "stream",
     "text": [
      "[jovian] Updating notebook \"therahulbhagat/petrol-gas-world-prices\" on https://jovian.ai\u001b[0m\n",
      "[jovian] Committed successfully! https://jovian.ai/therahulbhagat/petrol-gas-world-prices\u001b[0m\n"
     ]
    },
    {
     "data": {
      "text/plain": [
       "'https://jovian.ai/therahulbhagat/petrol-gas-world-prices'"
      ]
     },
     "execution_count": 176,
     "metadata": {},
     "output_type": "execute_result"
    }
   ],
   "source": [
    "jovian.commit(project=project_name)"
   ]
  },
  {
   "cell_type": "markdown",
   "metadata": {},
   "source": [
    "## Data Preparation and Cleaning\n",
    "\n",
    "We have the raw data, with probably some missing or duplicated values. We need to cleanse the data first so that we can carry out our analysis smoothly.For this we use the regular methods from Pandas to clean our data, but before we can do that we have to load our dataset into a Pandas Dataframe. Let's Begin!"
   ]
  },
  {
   "cell_type": "markdown",
   "metadata": {},
   "source": [
    "> - Loading the dataset into a data frame using Pandas\n",
    "> - Exploring the number of rows & columns, ranges of values etc.\n",
    "> - Handling missing, incorrect and invalid data\n",
    "> - Performing any additional steps (parsing dates, creating additional columns, merging multiple dataset etc.)"
   ]
  },
  {
   "cell_type": "code",
   "execution_count": 177,
   "metadata": {},
   "outputs": [],
   "source": [
    "import pandas as pd\n",
    "import numpy as np"
   ]
  },
  {
   "cell_type": "code",
   "execution_count": 178,
   "metadata": {},
   "outputs": [],
   "source": [
    "raw_df = pd.read_csv('Petrol Dataset June 23 2022 -- Version 2.csv',encoding = \"ISO-8859-1\")"
   ]
  },
  {
   "cell_type": "code",
   "execution_count": 179,
   "metadata": {},
   "outputs": [
    {
     "data": {
      "text/html": [
       "<div>\n",
       "<style scoped>\n",
       "    .dataframe tbody tr th:only-of-type {\n",
       "        vertical-align: middle;\n",
       "    }\n",
       "\n",
       "    .dataframe tbody tr th {\n",
       "        vertical-align: top;\n",
       "    }\n",
       "\n",
       "    .dataframe thead th {\n",
       "        text-align: right;\n",
       "    }\n",
       "</style>\n",
       "<table border=\"1\" class=\"dataframe\">\n",
       "  <thead>\n",
       "    <tr style=\"text-align: right;\">\n",
       "      <th></th>\n",
       "      <th>S#</th>\n",
       "      <th>Country</th>\n",
       "      <th>Daily Oil Consumption (Barrels)</th>\n",
       "      <th>World Share</th>\n",
       "      <th>Yearly Gallons Per Capita</th>\n",
       "      <th>Price Per Gallon (USD)</th>\n",
       "      <th>Price Per Liter (USD)</th>\n",
       "      <th>Price Per Liter (PKR)</th>\n",
       "      <th>GDP Per Capita ( USD )</th>\n",
       "      <th>Gallons GDP Per Capita Can Buy</th>\n",
       "      <th>xTimes Yearly Gallons Per Capita Buy</th>\n",
       "    </tr>\n",
       "  </thead>\n",
       "  <tbody>\n",
       "    <tr>\n",
       "      <th>0</th>\n",
       "      <td>1</td>\n",
       "      <td>United States</td>\n",
       "      <td>19,687,287</td>\n",
       "      <td>20%</td>\n",
       "      <td>934.3</td>\n",
       "      <td>5.19</td>\n",
       "      <td>1.37</td>\n",
       "      <td>289.97</td>\n",
       "      <td>63,414</td>\n",
       "      <td>12,218</td>\n",
       "      <td>13</td>\n",
       "    </tr>\n",
       "    <tr>\n",
       "      <th>1</th>\n",
       "      <td>2</td>\n",
       "      <td>China</td>\n",
       "      <td>12,791,553</td>\n",
       "      <td>13%</td>\n",
       "      <td>138.7</td>\n",
       "      <td>5.42</td>\n",
       "      <td>1.43</td>\n",
       "      <td>302.87</td>\n",
       "      <td>10,435</td>\n",
       "      <td>1,925</td>\n",
       "      <td>14</td>\n",
       "    </tr>\n",
       "    <tr>\n",
       "      <th>2</th>\n",
       "      <td>3</td>\n",
       "      <td>India</td>\n",
       "      <td>4,443,000</td>\n",
       "      <td>5%</td>\n",
       "      <td>51.4</td>\n",
       "      <td>5.05</td>\n",
       "      <td>1.33</td>\n",
       "      <td>281.93</td>\n",
       "      <td>1,901</td>\n",
       "      <td>376</td>\n",
       "      <td>7</td>\n",
       "    </tr>\n",
       "    <tr>\n",
       "      <th>3</th>\n",
       "      <td>4</td>\n",
       "      <td>Japan</td>\n",
       "      <td>4,012,877</td>\n",
       "      <td>4%</td>\n",
       "      <td>481.5</td>\n",
       "      <td>4.69</td>\n",
       "      <td>1.24</td>\n",
       "      <td>262.05</td>\n",
       "      <td>40,193</td>\n",
       "      <td>8,570</td>\n",
       "      <td>18</td>\n",
       "    </tr>\n",
       "    <tr>\n",
       "      <th>4</th>\n",
       "      <td>5</td>\n",
       "      <td>Russia</td>\n",
       "      <td>3,631,287</td>\n",
       "      <td>4%</td>\n",
       "      <td>383.2</td>\n",
       "      <td>3.41</td>\n",
       "      <td>0.90</td>\n",
       "      <td>190.56</td>\n",
       "      <td>10,127</td>\n",
       "      <td>2,970</td>\n",
       "      <td>8</td>\n",
       "    </tr>\n",
       "    <tr>\n",
       "      <th>...</th>\n",
       "      <td>...</td>\n",
       "      <td>...</td>\n",
       "      <td>...</td>\n",
       "      <td>...</td>\n",
       "      <td>...</td>\n",
       "      <td>...</td>\n",
       "      <td>...</td>\n",
       "      <td>...</td>\n",
       "      <td>...</td>\n",
       "      <td>...</td>\n",
       "      <td>...</td>\n",
       "    </tr>\n",
       "    <tr>\n",
       "      <th>176</th>\n",
       "      <td>177</td>\n",
       "      <td>Belize</td>\n",
       "      <td>4,001</td>\n",
       "      <td>0%</td>\n",
       "      <td>166.5</td>\n",
       "      <td>6.68</td>\n",
       "      <td>1.76</td>\n",
       "      <td>373.09</td>\n",
       "      <td>4,436</td>\n",
       "      <td>664</td>\n",
       "      <td>4</td>\n",
       "    </tr>\n",
       "    <tr>\n",
       "      <th>177</th>\n",
       "      <td>178</td>\n",
       "      <td>Niue</td>\n",
       "      <td>51</td>\n",
       "      <td>0%</td>\n",
       "      <td>484.4</td>\n",
       "      <td>11.43</td>\n",
       "      <td>3.02</td>\n",
       "      <td>638.73</td>\n",
       "      <td>15,586</td>\n",
       "      <td>1,364</td>\n",
       "      <td>3</td>\n",
       "    </tr>\n",
       "    <tr>\n",
       "      <th>178</th>\n",
       "      <td>179</td>\n",
       "      <td>Saint Pierre &amp; Miquelon</td>\n",
       "      <td>660</td>\n",
       "      <td>0%</td>\n",
       "      <td>1705.1</td>\n",
       "      <td>8.27</td>\n",
       "      <td>2.19</td>\n",
       "      <td>462.13</td>\n",
       "      <td>34,900</td>\n",
       "      <td>4,220</td>\n",
       "      <td>2</td>\n",
       "    </tr>\n",
       "    <tr>\n",
       "      <th>179</th>\n",
       "      <td>180</td>\n",
       "      <td>Montserrat</td>\n",
       "      <td>400</td>\n",
       "      <td>0%</td>\n",
       "      <td>1231.1</td>\n",
       "      <td>4.57</td>\n",
       "      <td>1.21</td>\n",
       "      <td>255.07</td>\n",
       "      <td>12,589</td>\n",
       "      <td>2,755</td>\n",
       "      <td>2</td>\n",
       "    </tr>\n",
       "    <tr>\n",
       "      <th>180</th>\n",
       "      <td>181</td>\n",
       "      <td>Tonga</td>\n",
       "      <td>899</td>\n",
       "      <td>0%</td>\n",
       "      <td>136.3</td>\n",
       "      <td>16.20</td>\n",
       "      <td>4.28</td>\n",
       "      <td>905.22</td>\n",
       "      <td>4,903</td>\n",
       "      <td>303</td>\n",
       "      <td>2</td>\n",
       "    </tr>\n",
       "  </tbody>\n",
       "</table>\n",
       "<p>181 rows × 11 columns</p>\n",
       "</div>"
      ],
      "text/plain": [
       "      S#                  Country Daily Oil Consumption (Barrels) World Share  \\\n",
       "0      1            United States                      19,687,287         20%   \n",
       "1      2                    China                      12,791,553         13%   \n",
       "2      3                    India                       4,443,000          5%   \n",
       "3      4                    Japan                       4,012,877          4%   \n",
       "4      5                   Russia                       3,631,287          4%   \n",
       "..   ...                      ...                             ...         ...   \n",
       "176  177                   Belize                           4,001          0%   \n",
       "177  178                     Niue                              51          0%   \n",
       "178  179  Saint Pierre & Miquelon                             660          0%   \n",
       "179  180               Montserrat                             400          0%   \n",
       "180  181                    Tonga                             899          0%   \n",
       "\n",
       "     Yearly Gallons Per Capita  Price Per Gallon (USD)  Price Per Liter (USD)  \\\n",
       "0                        934.3                    5.19                   1.37   \n",
       "1                        138.7                    5.42                   1.43   \n",
       "2                         51.4                    5.05                   1.33   \n",
       "3                        481.5                    4.69                   1.24   \n",
       "4                        383.2                    3.41                   0.90   \n",
       "..                         ...                     ...                    ...   \n",
       "176                      166.5                    6.68                   1.76   \n",
       "177                      484.4                   11.43                   3.02   \n",
       "178                     1705.1                    8.27                   2.19   \n",
       "179                     1231.1                    4.57                   1.21   \n",
       "180                      136.3                   16.20                   4.28   \n",
       "\n",
       "     Price Per Liter (PKR) GDP Per Capita ( USD )  \\\n",
       "0                   289.97                 63,414   \n",
       "1                   302.87                 10,435   \n",
       "2                   281.93                  1,901   \n",
       "3                   262.05                 40,193   \n",
       "4                   190.56                 10,127   \n",
       "..                     ...                    ...   \n",
       "176                 373.09                  4,436   \n",
       "177                 638.73                 15,586   \n",
       "178                 462.13                 34,900   \n",
       "179                 255.07                 12,589   \n",
       "180                 905.22                  4,903   \n",
       "\n",
       "    Gallons GDP Per Capita Can Buy  xTimes Yearly Gallons Per Capita Buy  \n",
       "0                           12,218                                    13  \n",
       "1                            1,925                                    14  \n",
       "2                              376                                     7  \n",
       "3                            8,570                                    18  \n",
       "4                            2,970                                     8  \n",
       "..                             ...                                   ...  \n",
       "176                            664                                     4  \n",
       "177                          1,364                                     3  \n",
       "178                          4,220                                     2  \n",
       "179                          2,755                                     2  \n",
       "180                            303                                     2  \n",
       "\n",
       "[181 rows x 11 columns]"
      ]
     },
     "execution_count": 179,
     "metadata": {},
     "output_type": "execute_result"
    }
   ],
   "source": [
    "raw_df"
   ]
  },
  {
   "cell_type": "markdown",
   "metadata": {},
   "source": [
    "### We see that our raw data contains 10 columns(excluding the first serial coloumn) and 180 rows(Countries). Lets Quickly check for missing values in out dataset."
   ]
  },
  {
   "cell_type": "code",
   "execution_count": 180,
   "metadata": {},
   "outputs": [
    {
     "name": "stdout",
     "output_type": "stream",
     "text": [
      "<class 'pandas.core.frame.DataFrame'>\n",
      "RangeIndex: 181 entries, 0 to 180\n",
      "Data columns (total 11 columns):\n",
      " #   Column                                Non-Null Count  Dtype  \n",
      "---  ------                                --------------  -----  \n",
      " 0   S#                                    181 non-null    int64  \n",
      " 1   Country                               181 non-null    object \n",
      " 2   Daily Oil Consumption (Barrels)       181 non-null    object \n",
      " 3   World Share                           181 non-null    object \n",
      " 4   Yearly Gallons Per Capita             181 non-null    float64\n",
      " 5   Price Per Gallon (USD)                181 non-null    float64\n",
      " 6   Price Per Liter (USD)                 181 non-null    float64\n",
      " 7   Price Per Liter (PKR)                 181 non-null    float64\n",
      " 8   GDP Per Capita ( USD )                181 non-null    object \n",
      " 9   Gallons GDP Per Capita Can Buy        181 non-null    object \n",
      " 10  xTimes Yearly Gallons Per Capita Buy  181 non-null    int64  \n",
      "dtypes: float64(4), int64(2), object(5)\n",
      "memory usage: 15.7+ KB\n"
     ]
    }
   ],
   "source": [
    "raw_df.info()"
   ]
  },
  {
   "cell_type": "markdown",
   "metadata": {},
   "source": [
    "#### We see that there are no null values in the columns. The columns with Object Datatype are problematic. We need to check why these numerical values have the object dtype."
   ]
  },
  {
   "cell_type": "code",
   "execution_count": 181,
   "metadata": {},
   "outputs": [],
   "source": [
    "raw_df['Daily Oil Consumption (Barrels)']=raw_df['Daily Oil Consumption (Barrels)'].str.replace(',', '')\n",
    "raw_df['Daily Oil Consumption (Barrels)'] = pd.to_numeric(raw_df['Daily Oil Consumption (Barrels)'])"
   ]
  },
  {
   "cell_type": "code",
   "execution_count": 182,
   "metadata": {},
   "outputs": [],
   "source": [
    "raw_df['World Share'] = raw_df['World Share'].str.replace('%','')\n",
    "raw_df['World Share'] = pd.to_numeric(raw_df['World Share'])"
   ]
  },
  {
   "cell_type": "code",
   "execution_count": 183,
   "metadata": {},
   "outputs": [],
   "source": [
    "raw_df['GDP Per Capita ( USD )'] = raw_df['GDP Per Capita ( USD )'].str.replace(',','')\n",
    "raw_df['GDP Per Capita ( USD )'] = pd.to_numeric(raw_df['GDP Per Capita ( USD )'])"
   ]
  },
  {
   "cell_type": "code",
   "execution_count": 184,
   "metadata": {},
   "outputs": [],
   "source": [
    "raw_df['Gallons GDP Per Capita Can Buy'] = raw_df['Gallons GDP Per Capita Can Buy'].str.replace(',','')\n",
    "raw_df['Gallons GDP Per Capita Can Buy'] = pd.to_numeric(raw_df['Gallons GDP Per Capita Can Buy'])"
   ]
  },
  {
   "cell_type": "code",
   "execution_count": 185,
   "metadata": {},
   "outputs": [
    {
     "name": "stdout",
     "output_type": "stream",
     "text": [
      "<class 'pandas.core.frame.DataFrame'>\n",
      "RangeIndex: 181 entries, 0 to 180\n",
      "Data columns (total 11 columns):\n",
      " #   Column                                Non-Null Count  Dtype  \n",
      "---  ------                                --------------  -----  \n",
      " 0   S#                                    181 non-null    int64  \n",
      " 1   Country                               181 non-null    object \n",
      " 2   Daily Oil Consumption (Barrels)       181 non-null    int64  \n",
      " 3   World Share                           181 non-null    int64  \n",
      " 4   Yearly Gallons Per Capita             181 non-null    float64\n",
      " 5   Price Per Gallon (USD)                181 non-null    float64\n",
      " 6   Price Per Liter (USD)                 181 non-null    float64\n",
      " 7   Price Per Liter (PKR)                 181 non-null    float64\n",
      " 8   GDP Per Capita ( USD )                181 non-null    int64  \n",
      " 9   Gallons GDP Per Capita Can Buy        181 non-null    int64  \n",
      " 10  xTimes Yearly Gallons Per Capita Buy  181 non-null    int64  \n",
      "dtypes: float64(4), int64(6), object(1)\n",
      "memory usage: 15.7+ KB\n"
     ]
    }
   ],
   "source": [
    "raw_df.info()"
   ]
  },
  {
   "cell_type": "markdown",
   "metadata": {},
   "source": [
    "### We have successfully changed the object datatype into numeric values. Now lets quickly remove columns we won't be needing.\n",
    "For example, we have everything in USD so the 'Price Per Liter (PKR)' column is of no use. Also we have with us already the price per gallon so we do not need 'price per litres' column."
   ]
  },
  {
   "cell_type": "code",
   "execution_count": 186,
   "metadata": {},
   "outputs": [],
   "source": [
    "df = raw_df.drop(['Price Per Liter (USD)','Price Per Liter (PKR)'],axis=1)"
   ]
  },
  {
   "cell_type": "code",
   "execution_count": 187,
   "metadata": {},
   "outputs": [
    {
     "data": {
      "text/html": [
       "<div>\n",
       "<style scoped>\n",
       "    .dataframe tbody tr th:only-of-type {\n",
       "        vertical-align: middle;\n",
       "    }\n",
       "\n",
       "    .dataframe tbody tr th {\n",
       "        vertical-align: top;\n",
       "    }\n",
       "\n",
       "    .dataframe thead th {\n",
       "        text-align: right;\n",
       "    }\n",
       "</style>\n",
       "<table border=\"1\" class=\"dataframe\">\n",
       "  <thead>\n",
       "    <tr style=\"text-align: right;\">\n",
       "      <th></th>\n",
       "      <th>S#</th>\n",
       "      <th>Country</th>\n",
       "      <th>Daily Oil Consumption (Barrels)</th>\n",
       "      <th>World Share</th>\n",
       "      <th>Yearly Gallons Per Capita</th>\n",
       "      <th>Price Per Gallon (USD)</th>\n",
       "      <th>GDP Per Capita ( USD )</th>\n",
       "      <th>Gallons GDP Per Capita Can Buy</th>\n",
       "      <th>xTimes Yearly Gallons Per Capita Buy</th>\n",
       "    </tr>\n",
       "  </thead>\n",
       "  <tbody>\n",
       "    <tr>\n",
       "      <th>0</th>\n",
       "      <td>1</td>\n",
       "      <td>United States</td>\n",
       "      <td>19687287</td>\n",
       "      <td>20</td>\n",
       "      <td>934.3</td>\n",
       "      <td>5.19</td>\n",
       "      <td>63414</td>\n",
       "      <td>12218</td>\n",
       "      <td>13</td>\n",
       "    </tr>\n",
       "    <tr>\n",
       "      <th>1</th>\n",
       "      <td>2</td>\n",
       "      <td>China</td>\n",
       "      <td>12791553</td>\n",
       "      <td>13</td>\n",
       "      <td>138.7</td>\n",
       "      <td>5.42</td>\n",
       "      <td>10435</td>\n",
       "      <td>1925</td>\n",
       "      <td>14</td>\n",
       "    </tr>\n",
       "    <tr>\n",
       "      <th>2</th>\n",
       "      <td>3</td>\n",
       "      <td>India</td>\n",
       "      <td>4443000</td>\n",
       "      <td>5</td>\n",
       "      <td>51.4</td>\n",
       "      <td>5.05</td>\n",
       "      <td>1901</td>\n",
       "      <td>376</td>\n",
       "      <td>7</td>\n",
       "    </tr>\n",
       "    <tr>\n",
       "      <th>3</th>\n",
       "      <td>4</td>\n",
       "      <td>Japan</td>\n",
       "      <td>4012877</td>\n",
       "      <td>4</td>\n",
       "      <td>481.5</td>\n",
       "      <td>4.69</td>\n",
       "      <td>40193</td>\n",
       "      <td>8570</td>\n",
       "      <td>18</td>\n",
       "    </tr>\n",
       "    <tr>\n",
       "      <th>4</th>\n",
       "      <td>5</td>\n",
       "      <td>Russia</td>\n",
       "      <td>3631287</td>\n",
       "      <td>4</td>\n",
       "      <td>383.2</td>\n",
       "      <td>3.41</td>\n",
       "      <td>10127</td>\n",
       "      <td>2970</td>\n",
       "      <td>8</td>\n",
       "    </tr>\n",
       "  </tbody>\n",
       "</table>\n",
       "</div>"
      ],
      "text/plain": [
       "   S#        Country  Daily Oil Consumption (Barrels)  World Share  \\\n",
       "0   1  United States                         19687287           20   \n",
       "1   2          China                         12791553           13   \n",
       "2   3          India                          4443000            5   \n",
       "3   4          Japan                          4012877            4   \n",
       "4   5         Russia                          3631287            4   \n",
       "\n",
       "   Yearly Gallons Per Capita  Price Per Gallon (USD)  GDP Per Capita ( USD )  \\\n",
       "0                      934.3                    5.19                   63414   \n",
       "1                      138.7                    5.42                   10435   \n",
       "2                       51.4                    5.05                    1901   \n",
       "3                      481.5                    4.69                   40193   \n",
       "4                      383.2                    3.41                   10127   \n",
       "\n",
       "   Gallons GDP Per Capita Can Buy  xTimes Yearly Gallons Per Capita Buy  \n",
       "0                           12218                                    13  \n",
       "1                            1925                                    14  \n",
       "2                             376                                     7  \n",
       "3                            8570                                    18  \n",
       "4                            2970                                     8  "
      ]
     },
     "execution_count": 187,
     "metadata": {},
     "output_type": "execute_result"
    }
   ],
   "source": [
    "df.head()"
   ]
  },
  {
   "cell_type": "code",
   "execution_count": 188,
   "metadata": {},
   "outputs": [
    {
     "data": {
      "text/plain": [
       "(181,)"
      ]
     },
     "execution_count": 188,
     "metadata": {},
     "output_type": "execute_result"
    }
   ],
   "source": [
    "df['Country'].unique().shape"
   ]
  },
  {
   "cell_type": "markdown",
   "metadata": {},
   "source": [
    "## No Duplicate Country Values. We have 181 unique countries available."
   ]
  },
  {
   "cell_type": "code",
   "execution_count": 189,
   "metadata": {},
   "outputs": [],
   "source": [
    "import jovian"
   ]
  },
  {
   "cell_type": "code",
   "execution_count": 190,
   "metadata": {},
   "outputs": [
    {
     "data": {
      "application/javascript": [
       "window.require && require([\"base/js/namespace\"],function(Jupyter){Jupyter.notebook.save_checkpoint()})"
      ],
      "text/plain": [
       "<IPython.core.display.Javascript object>"
      ]
     },
     "metadata": {},
     "output_type": "display_data"
    },
    {
     "name": "stdout",
     "output_type": "stream",
     "text": [
      "[jovian] Updating notebook \"therahulbhagat/petrol-gas-world-prices\" on https://jovian.ai\u001b[0m\n",
      "[jovian] Committed successfully! https://jovian.ai/therahulbhagat/petrol-gas-world-prices\u001b[0m\n"
     ]
    },
    {
     "data": {
      "text/plain": [
       "'https://jovian.ai/therahulbhagat/petrol-gas-world-prices'"
      ]
     },
     "execution_count": 190,
     "metadata": {},
     "output_type": "execute_result"
    }
   ],
   "source": [
    "jovian.commit()"
   ]
  },
  {
   "cell_type": "markdown",
   "metadata": {},
   "source": [
    "## Exploratory Analysis and Visualization\n",
    "\n",
    "Now we will do some Exploratory Analsysis. We will use visualiztion tools to see characteristics of the data\n",
    "\n"
   ]
  },
  {
   "cell_type": "markdown",
   "metadata": {},
   "source": [
    "\n",
    " \n",
    "> - Computing the mean, sum, range and other interesting statistics for numeric columns\n",
    "> - Exploring distributions of numeric columns using histograms etc.\n",
    "> - Exploring relationship between columns using scatter plots, bar charts etc.\n",
    "> - Making a note of interesting insights from the exploratory analysis"
   ]
  },
  {
   "cell_type": "markdown",
   "metadata": {},
   "source": [
    "Let's begin by importing`matplotlib.pyplot` and `seaborn`."
   ]
  },
  {
   "cell_type": "code",
   "execution_count": 191,
   "metadata": {},
   "outputs": [],
   "source": [
    "import seaborn as sns\n",
    "import matplotlib\n",
    "import matplotlib.pyplot as plt\n",
    "%matplotlib inline\n",
    "\n",
    "sns.set_style('darkgrid')\n",
    "matplotlib.rcParams['font.size'] = 14\n",
    "matplotlib.rcParams['figure.figsize'] = (9, 5)\n",
    "matplotlib.rcParams['figure.facecolor'] = '#00000000'"
   ]
  },
  {
   "cell_type": "code",
   "execution_count": 192,
   "metadata": {},
   "outputs": [
    {
     "data": {
      "text/html": [
       "<div>\n",
       "<style scoped>\n",
       "    .dataframe tbody tr th:only-of-type {\n",
       "        vertical-align: middle;\n",
       "    }\n",
       "\n",
       "    .dataframe tbody tr th {\n",
       "        vertical-align: top;\n",
       "    }\n",
       "\n",
       "    .dataframe thead th {\n",
       "        text-align: right;\n",
       "    }\n",
       "</style>\n",
       "<table border=\"1\" class=\"dataframe\">\n",
       "  <thead>\n",
       "    <tr style=\"text-align: right;\">\n",
       "      <th></th>\n",
       "      <th>S#</th>\n",
       "      <th>Daily Oil Consumption (Barrels)</th>\n",
       "      <th>World Share</th>\n",
       "      <th>Yearly Gallons Per Capita</th>\n",
       "      <th>Price Per Gallon (USD)</th>\n",
       "      <th>GDP Per Capita ( USD )</th>\n",
       "      <th>Gallons GDP Per Capita Can Buy</th>\n",
       "      <th>xTimes Yearly Gallons Per Capita Buy</th>\n",
       "    </tr>\n",
       "  </thead>\n",
       "  <tbody>\n",
       "    <tr>\n",
       "      <th>count</th>\n",
       "      <td>181.000000</td>\n",
       "      <td>1.810000e+02</td>\n",
       "      <td>181.000000</td>\n",
       "      <td>181.000000</td>\n",
       "      <td>181.000000</td>\n",
       "      <td>181.000000</td>\n",
       "      <td>181.000000</td>\n",
       "      <td>181.000000</td>\n",
       "    </tr>\n",
       "    <tr>\n",
       "      <th>mean</th>\n",
       "      <td>91.000000</td>\n",
       "      <td>5.335730e+05</td>\n",
       "      <td>0.497238</td>\n",
       "      <td>332.006630</td>\n",
       "      <td>5.695691</td>\n",
       "      <td>15259.790055</td>\n",
       "      <td>4179.342541</td>\n",
       "      <td>14.204420</td>\n",
       "    </tr>\n",
       "    <tr>\n",
       "      <th>std</th>\n",
       "      <td>52.394338</td>\n",
       "      <td>1.858067e+06</td>\n",
       "      <td>1.922453</td>\n",
       "      <td>436.558735</td>\n",
       "      <td>4.370484</td>\n",
       "      <td>20542.231615</td>\n",
       "      <td>15436.362412</td>\n",
       "      <td>48.613866</td>\n",
       "    </tr>\n",
       "    <tr>\n",
       "      <th>min</th>\n",
       "      <td>1.000000</td>\n",
       "      <td>5.100000e+01</td>\n",
       "      <td>0.000000</td>\n",
       "      <td>2.200000</td>\n",
       "      <td>0.080000</td>\n",
       "      <td>274.000000</td>\n",
       "      <td>24.000000</td>\n",
       "      <td>1.000000</td>\n",
       "    </tr>\n",
       "    <tr>\n",
       "      <th>25%</th>\n",
       "      <td>46.000000</td>\n",
       "      <td>2.003600e+04</td>\n",
       "      <td>0.000000</td>\n",
       "      <td>53.900000</td>\n",
       "      <td>4.150000</td>\n",
       "      <td>2033.000000</td>\n",
       "      <td>473.000000</td>\n",
       "      <td>6.000000</td>\n",
       "    </tr>\n",
       "    <tr>\n",
       "      <th>50%</th>\n",
       "      <td>91.000000</td>\n",
       "      <td>6.161200e+04</td>\n",
       "      <td>0.000000</td>\n",
       "      <td>180.200000</td>\n",
       "      <td>5.280000</td>\n",
       "      <td>6127.000000</td>\n",
       "      <td>1410.000000</td>\n",
       "      <td>9.000000</td>\n",
       "    </tr>\n",
       "    <tr>\n",
       "      <th>75%</th>\n",
       "      <td>136.000000</td>\n",
       "      <td>2.623520e+05</td>\n",
       "      <td>0.000000</td>\n",
       "      <td>424.600000</td>\n",
       "      <td>6.760000</td>\n",
       "      <td>20234.000000</td>\n",
       "      <td>4103.000000</td>\n",
       "      <td>12.000000</td>\n",
       "    </tr>\n",
       "    <tr>\n",
       "      <th>max</th>\n",
       "      <td>181.000000</td>\n",
       "      <td>1.968729e+07</td>\n",
       "      <td>20.000000</td>\n",
       "      <td>3679.500000</td>\n",
       "      <td>54.890000</td>\n",
       "      <td>115874.000000</td>\n",
       "      <td>200700.000000</td>\n",
       "      <td>654.000000</td>\n",
       "    </tr>\n",
       "  </tbody>\n",
       "</table>\n",
       "</div>"
      ],
      "text/plain": [
       "               S#  Daily Oil Consumption (Barrels)  World Share  \\\n",
       "count  181.000000                     1.810000e+02   181.000000   \n",
       "mean    91.000000                     5.335730e+05     0.497238   \n",
       "std     52.394338                     1.858067e+06     1.922453   \n",
       "min      1.000000                     5.100000e+01     0.000000   \n",
       "25%     46.000000                     2.003600e+04     0.000000   \n",
       "50%     91.000000                     6.161200e+04     0.000000   \n",
       "75%    136.000000                     2.623520e+05     0.000000   \n",
       "max    181.000000                     1.968729e+07    20.000000   \n",
       "\n",
       "       Yearly Gallons Per Capita  Price Per Gallon (USD)  \\\n",
       "count                 181.000000              181.000000   \n",
       "mean                  332.006630                5.695691   \n",
       "std                   436.558735                4.370484   \n",
       "min                     2.200000                0.080000   \n",
       "25%                    53.900000                4.150000   \n",
       "50%                   180.200000                5.280000   \n",
       "75%                   424.600000                6.760000   \n",
       "max                  3679.500000               54.890000   \n",
       "\n",
       "       GDP Per Capita ( USD )  Gallons GDP Per Capita Can Buy  \\\n",
       "count              181.000000                      181.000000   \n",
       "mean             15259.790055                     4179.342541   \n",
       "std              20542.231615                    15436.362412   \n",
       "min                274.000000                       24.000000   \n",
       "25%               2033.000000                      473.000000   \n",
       "50%               6127.000000                     1410.000000   \n",
       "75%              20234.000000                     4103.000000   \n",
       "max             115874.000000                   200700.000000   \n",
       "\n",
       "       xTimes Yearly Gallons Per Capita Buy  \n",
       "count                            181.000000  \n",
       "mean                              14.204420  \n",
       "std                               48.613866  \n",
       "min                                1.000000  \n",
       "25%                                6.000000  \n",
       "50%                                9.000000  \n",
       "75%                               12.000000  \n",
       "max                              654.000000  "
      ]
     },
     "execution_count": 192,
     "metadata": {},
     "output_type": "execute_result"
    }
   ],
   "source": [
    "df.describe()"
   ]
  },
  {
   "cell_type": "code",
   "execution_count": 193,
   "metadata": {},
   "outputs": [
    {
     "data": {
      "text/plain": [
       "<AxesSubplot:>"
      ]
     },
     "execution_count": 193,
     "metadata": {},
     "output_type": "execute_result"
    },
    {
     "data": {
      "image/png": "[encoded data removed]",
      "text/plain": [
       "<Figure size 648x360 with 2 Axes>"
      ]
     },
     "metadata": {
      "needs_background": "light"
     },
     "output_type": "display_data"
    }
   ],
   "source": [
    "sns.heatmap(df.corr())"
   ]
  },
  {
   "cell_type": "markdown",
   "metadata": {},
   "source": [
    "#### We see only a strong positive correlation between \"GDP per Capita\" and \"Yearly Gallons per Capita\" which is to be expected as the more money people have the more they can consume."
   ]
  },
  {
   "cell_type": "markdown",
   "metadata": {},
   "source": [
    "### Let's look at the Daily Oil Consumption of the top 10 countries and visualize it by a Barplot."
   ]
  },
  {
   "cell_type": "code",
   "execution_count": 194,
   "metadata": {},
   "outputs": [
    {
     "data": {
      "text/plain": [
       "<AxesSubplot:xlabel='Daily Oil Consumption (Barrels)', ylabel='Country'>"
      ]
     },
     "execution_count": 194,
     "metadata": {},
     "output_type": "execute_result"
    },
    {
     "data": {
      "image/png": "[encoded data removed]",
      "text/plain": [
       "<Figure size 648x360 with 1 Axes>"
      ]
     },
     "metadata": {
      "needs_background": "light"
     },
     "output_type": "display_data"
    }
   ],
   "source": [
    "top_consume = df.sort_values(by='Daily Oil Consumption (Barrels)',ascending = False).head(10)\n",
    "top_consume['Daily Oil Consumption (Barrels)'] = (top_consume['Daily Oil Consumption (Barrels)']*100)/(top_consume['Daily Oil Consumption (Barrels)']).sum()\n",
    "sns.barplot(x=top_consume['Daily Oil Consumption (Barrels)'],y=top_consume['Country'])"
   ]
  },
  {
   "cell_type": "markdown",
   "metadata": {},
   "source": [
    "### We see that USA and China consumes more than 50% of the Oil Produced per day. \n",
    ">- China and India have a way larger population than USA and the rest of the countries, even then USA consumes more oil than India and China combined.\n",
    "### India, Japan and shockingly Russia, one of the leading exporter of Oil, account for less than 20% together."
   ]
  },
  {
   "cell_type": "markdown",
   "metadata": {},
   "source": [
    "### Now, we explore the Price per Gallon in USD in the top oil consuming countries."
   ]
  },
  {
   "cell_type": "code",
   "execution_count": 195,
   "metadata": {},
   "outputs": [],
   "source": [
    "import matplotlib.pyplot as plt"
   ]
  },
  {
   "cell_type": "code",
   "execution_count": 196,
   "metadata": {},
   "outputs": [
    {
     "data": {
      "text/plain": [
       "<AxesSubplot:xlabel='Daily Oil Consumption (Barrels)', ylabel='Country'>"
      ]
     },
     "execution_count": 196,
     "metadata": {},
     "output_type": "execute_result"
    },
    {
     "data": {
      "image/png": "[encoded data removed]",
      "text/plain": [
       "<Figure size 1152x576 with 2 Axes>"
      ]
     },
     "metadata": {
      "needs_background": "light"
     },
     "output_type": "display_data"
    }
   ],
   "source": [
    "fig, axes = plt.subplots(1, 2, figsize=(16, 8))\n",
    "sns.barplot(x = top_consume['Price Per Gallon (USD)'],y = top_consume['Country'],ax = axes[0])\n",
    "sns.barplot(x=top_consume['Daily Oil Consumption (Barrels)'],y=top_consume['Country'],ax = axes[1])"
   ]
  },
  {
   "cell_type": "markdown",
   "metadata": {},
   "source": [
    "### We see some interesting facts here. \n",
    "> - Saudi Arabia and Russia have the lowest price for oil, owing to the fact that they are leading oil exporters. \n",
    "> - Countries like [Brazil,South Korea,Canada and Germany] have high prices and low consumption compared to other countries in the list. \n",
    "> - USA has a lower price per gallon than China and is comparable to India, while it's consumption is way more than both China and India combined."
   ]
  },
  {
   "cell_type": "markdown",
   "metadata": {},
   "source": [
    "### We now see the GDP of the top consumers"
   ]
  },
  {
   "cell_type": "code",
   "execution_count": 197,
   "metadata": {
    "scrolled": true
   },
   "outputs": [
    {
     "data": {
      "text/plain": [
       "<AxesSubplot:xlabel='Daily Oil Consumption (Barrels)', ylabel='Country'>"
      ]
     },
     "execution_count": 197,
     "metadata": {},
     "output_type": "execute_result"
    },
    {
     "data": {
      "image/png": "[encoded data removed]",
      "text/plain": [
       "<Figure size 1152x576 with 2 Axes>"
      ]
     },
     "metadata": {
      "needs_background": "light"
     },
     "output_type": "display_data"
    }
   ],
   "source": [
    "fig, axes = plt.subplots(1, 2, figsize=(16, 8))\n",
    "sns.barplot(x = top_consume['GDP Per Capita ( USD )'],y = top_consume['Country'],ax = axes[0])\n",
    "sns.barplot(x=top_consume['Daily Oil Consumption (Barrels)'],y=top_consume['Country'],ax = axes[1])"
   ]
  },
  {
   "cell_type": "markdown",
   "metadata": {},
   "source": [
    "### USA has the highest GDP per capita, followed by Germany and Canada, but Canada and Germany do not consume as much oil as USA.\n",
    "### India and China have low GDP per capita among these countries which could be because of their large population.\n",
    "### Countries with lower populations are the ones with high GDP per capita."
   ]
  },
  {
   "cell_type": "markdown",
   "metadata": {},
   "source": [
    "### Let us see what percentage of their GDP do these countries spend on oil."
   ]
  },
  {
   "cell_type": "code",
   "execution_count": 198,
   "metadata": {},
   "outputs": [],
   "source": [
    "top_consume['percentage_gdp_spent_on_oil'] = 100*(top_consume['Yearly Gallons Per Capita']/top_consume['Gallons GDP Per Capita Can Buy'])"
   ]
  },
  {
   "cell_type": "code",
   "execution_count": 199,
   "metadata": {},
   "outputs": [
    {
     "data": {
      "text/plain": [
       "<AxesSubplot:xlabel='GDP Per Capita ( USD )', ylabel='Country'>"
      ]
     },
     "execution_count": 199,
     "metadata": {},
     "output_type": "execute_result"
    },
    {
     "data": {
      "image/png": "[encoded data removed]",
      "text/plain": [
       "<Figure size 1152x576 with 2 Axes>"
      ]
     },
     "metadata": {
      "needs_background": "light"
     },
     "output_type": "display_data"
    }
   ],
   "source": [
    "fig, axes = plt.subplots(1, 2, figsize=(16, 8))\n",
    "sns.barplot(x = top_consume['percentage_gdp_spent_on_oil'],y = top_consume['Country'],ax = axes[0])\n",
    "sns.barplot(x=top_consume['GDP Per Capita ( USD )'],y=top_consume['Country'],ax = axes[1])"
   ]
  },
  {
   "cell_type": "markdown",
   "metadata": {},
   "source": [
    "### We see that Saudi Arabia,Brazil,Canada and India spent the most percentage of their GDP on oil.\n",
    "### Japan,China,USA and Germnay spend less percentage of their GDP on oil.(But their GDP is also High)"
   ]
  },
  {
   "cell_type": "markdown",
   "metadata": {},
   "source": [
    "Let us save and upload our work to Jovian before continuing"
   ]
  },
  {
   "cell_type": "code",
   "execution_count": 200,
   "metadata": {},
   "outputs": [],
   "source": [
    "import jovian"
   ]
  },
  {
   "cell_type": "code",
   "execution_count": 201,
   "metadata": {},
   "outputs": [
    {
     "data": {
      "application/javascript": [
       "window.require && require([\"base/js/namespace\"],function(Jupyter){Jupyter.notebook.save_checkpoint()})"
      ],
      "text/plain": [
       "<IPython.core.display.Javascript object>"
      ]
     },
     "metadata": {},
     "output_type": "display_data"
    },
    {
     "name": "stdout",
     "output_type": "stream",
     "text": [
      "[jovian] Updating notebook \"therahulbhagat/petrol-gas-world-prices\" on https://jovian.ai\u001b[0m\n",
      "[jovian] Committed successfully! https://jovian.ai/therahulbhagat/petrol-gas-world-prices\u001b[0m\n"
     ]
    },
    {
     "data": {
      "text/plain": [
       "'https://jovian.ai/therahulbhagat/petrol-gas-world-prices'"
      ]
     },
     "execution_count": 201,
     "metadata": {},
     "output_type": "execute_result"
    }
   ],
   "source": [
    "jovian.commit()"
   ]
  },
  {
   "cell_type": "markdown",
   "metadata": {},
   "source": [
    "## Asking and Answering Questions\n",
    "\n",
    "TODO - write some explanation here.\n",
    "\n"
   ]
  },
  {
   "cell_type": "markdown",
   "metadata": {},
   "source": [
    "> Instructions (delete this cell)\n",
    ">\n",
    "> - Ask at least 5 interesting questions about your dataset\n",
    "> - Answer the questions either by computing the results using Numpy/Pandas or by plotting graphs using Matplotlib/Seaborn\n",
    "> - Create new columns, merge multiple dataset and perform grouping/aggregation wherever necessary\n",
    "> - Wherever you're using a library function from Pandas/Numpy/Matplotlib etc. explain briefly what it does\n",
    "\n"
   ]
  },
  {
   "cell_type": "markdown",
   "metadata": {},
   "source": [
    "### Q1) Which countries have the least GDP per Capita?"
   ]
  },
  {
   "cell_type": "code",
   "execution_count": 202,
   "metadata": {},
   "outputs": [
    {
     "data": {
      "text/html": [
       "<div>\n",
       "<style scoped>\n",
       "    .dataframe tbody tr th:only-of-type {\n",
       "        vertical-align: middle;\n",
       "    }\n",
       "\n",
       "    .dataframe tbody tr th {\n",
       "        vertical-align: top;\n",
       "    }\n",
       "\n",
       "    .dataframe thead th {\n",
       "        text-align: right;\n",
       "    }\n",
       "</style>\n",
       "<table border=\"1\" class=\"dataframe\">\n",
       "  <thead>\n",
       "    <tr style=\"text-align: right;\">\n",
       "      <th></th>\n",
       "      <th>S#</th>\n",
       "      <th>Country</th>\n",
       "      <th>Daily Oil Consumption (Barrels)</th>\n",
       "      <th>World Share</th>\n",
       "      <th>Yearly Gallons Per Capita</th>\n",
       "      <th>Price Per Gallon (USD)</th>\n",
       "      <th>GDP Per Capita ( USD )</th>\n",
       "      <th>Gallons GDP Per Capita Can Buy</th>\n",
       "      <th>xTimes Yearly Gallons Per Capita Buy</th>\n",
       "    </tr>\n",
       "  </thead>\n",
       "  <tbody>\n",
       "    <tr>\n",
       "      <th>164</th>\n",
       "      <td>165</td>\n",
       "      <td>Burundi</td>\n",
       "      <td>1499</td>\n",
       "      <td>0</td>\n",
       "      <td>2.2</td>\n",
       "      <td>5.09</td>\n",
       "      <td>274</td>\n",
       "      <td>54</td>\n",
       "      <td>24</td>\n",
       "    </tr>\n",
       "    <tr>\n",
       "      <th>152</th>\n",
       "      <td>153</td>\n",
       "      <td>Somalia</td>\n",
       "      <td>5600</td>\n",
       "      <td>0</td>\n",
       "      <td>6.1</td>\n",
       "      <td>3.03</td>\n",
       "      <td>309</td>\n",
       "      <td>102</td>\n",
       "      <td>17</td>\n",
       "    </tr>\n",
       "    <tr>\n",
       "      <th>114</th>\n",
       "      <td>115</td>\n",
       "      <td>Mozambique</td>\n",
       "      <td>40000</td>\n",
       "      <td>0</td>\n",
       "      <td>22.0</td>\n",
       "      <td>4.94</td>\n",
       "      <td>449</td>\n",
       "      <td>91</td>\n",
       "      <td>4</td>\n",
       "    </tr>\n",
       "    <tr>\n",
       "      <th>174</th>\n",
       "      <td>175</td>\n",
       "      <td>Central African Republic</td>\n",
       "      <td>2800</td>\n",
       "      <td>0</td>\n",
       "      <td>9.5</td>\n",
       "      <td>9.06</td>\n",
       "      <td>477</td>\n",
       "      <td>53</td>\n",
       "      <td>6</td>\n",
       "    </tr>\n",
       "    <tr>\n",
       "      <th>154</th>\n",
       "      <td>155</td>\n",
       "      <td>Sierra Leone</td>\n",
       "      <td>6500</td>\n",
       "      <td>0</td>\n",
       "      <td>13.6</td>\n",
       "      <td>5.17</td>\n",
       "      <td>485</td>\n",
       "      <td>94</td>\n",
       "      <td>7</td>\n",
       "    </tr>\n",
       "    <tr>\n",
       "      <th>130</th>\n",
       "      <td>131</td>\n",
       "      <td>Madagascar</td>\n",
       "      <td>18000</td>\n",
       "      <td>0</td>\n",
       "      <td>11.1</td>\n",
       "      <td>3.86</td>\n",
       "      <td>496</td>\n",
       "      <td>128</td>\n",
       "      <td>12</td>\n",
       "    </tr>\n",
       "    <tr>\n",
       "      <th>108</th>\n",
       "      <td>109</td>\n",
       "      <td>Afghanistan</td>\n",
       "      <td>35000</td>\n",
       "      <td>0</td>\n",
       "      <td>15.2</td>\n",
       "      <td>3.62</td>\n",
       "      <td>509</td>\n",
       "      <td>141</td>\n",
       "      <td>9</td>\n",
       "    </tr>\n",
       "    <tr>\n",
       "      <th>127</th>\n",
       "      <td>128</td>\n",
       "      <td>DR Congo</td>\n",
       "      <td>21000</td>\n",
       "      <td>0</td>\n",
       "      <td>4.1</td>\n",
       "      <td>4.43</td>\n",
       "      <td>557</td>\n",
       "      <td>126</td>\n",
       "      <td>31</td>\n",
       "    </tr>\n",
       "    <tr>\n",
       "      <th>157</th>\n",
       "      <td>158</td>\n",
       "      <td>Liberia</td>\n",
       "      <td>8000</td>\n",
       "      <td>0</td>\n",
       "      <td>26.7</td>\n",
       "      <td>4.90</td>\n",
       "      <td>583</td>\n",
       "      <td>119</td>\n",
       "      <td>4</td>\n",
       "    </tr>\n",
       "    <tr>\n",
       "      <th>81</th>\n",
       "      <td>82</td>\n",
       "      <td>Sudan</td>\n",
       "      <td>140000</td>\n",
       "      <td>0</td>\n",
       "      <td>53.9</td>\n",
       "      <td>4.80</td>\n",
       "      <td>596</td>\n",
       "      <td>124</td>\n",
       "      <td>2</td>\n",
       "    </tr>\n",
       "    <tr>\n",
       "      <th>149</th>\n",
       "      <td>150</td>\n",
       "      <td>Malawi</td>\n",
       "      <td>6001</td>\n",
       "      <td>0</td>\n",
       "      <td>5.3</td>\n",
       "      <td>5.12</td>\n",
       "      <td>625</td>\n",
       "      <td>122</td>\n",
       "      <td>23</td>\n",
       "    </tr>\n",
       "    <tr>\n",
       "      <th>173</th>\n",
       "      <td>174</td>\n",
       "      <td>Gambia</td>\n",
       "      <td>3800</td>\n",
       "      <td>0</td>\n",
       "      <td>27.1</td>\n",
       "      <td>5.04</td>\n",
       "      <td>787</td>\n",
       "      <td>156</td>\n",
       "      <td>6</td>\n",
       "    </tr>\n",
       "    <tr>\n",
       "      <th>151</th>\n",
       "      <td>152</td>\n",
       "      <td>Rwanda</td>\n",
       "      <td>6700</td>\n",
       "      <td>0</td>\n",
       "      <td>8.8</td>\n",
       "      <td>5.36</td>\n",
       "      <td>798</td>\n",
       "      <td>149</td>\n",
       "      <td>17</td>\n",
       "    </tr>\n",
       "    <tr>\n",
       "      <th>117</th>\n",
       "      <td>118</td>\n",
       "      <td>Uganda</td>\n",
       "      <td>32001</td>\n",
       "      <td>0</td>\n",
       "      <td>12.4</td>\n",
       "      <td>5.70</td>\n",
       "      <td>817</td>\n",
       "      <td>143</td>\n",
       "      <td>12</td>\n",
       "    </tr>\n",
       "    <tr>\n",
       "      <th>90</th>\n",
       "      <td>91</td>\n",
       "      <td>Yemen</td>\n",
       "      <td>60000</td>\n",
       "      <td>0</td>\n",
       "      <td>33.9</td>\n",
       "      <td>1.96</td>\n",
       "      <td>824</td>\n",
       "      <td>420</td>\n",
       "      <td>12</td>\n",
       "    </tr>\n",
       "    <tr>\n",
       "      <th>132</th>\n",
       "      <td>133</td>\n",
       "      <td>Burkina Faso</td>\n",
       "      <td>23000</td>\n",
       "      <td>0</td>\n",
       "      <td>18.9</td>\n",
       "      <td>4.33</td>\n",
       "      <td>831</td>\n",
       "      <td>192</td>\n",
       "      <td>10</td>\n",
       "    </tr>\n",
       "    <tr>\n",
       "      <th>134</th>\n",
       "      <td>135</td>\n",
       "      <td>Mali</td>\n",
       "      <td>21999</td>\n",
       "      <td>0</td>\n",
       "      <td>18.8</td>\n",
       "      <td>4.61</td>\n",
       "      <td>859</td>\n",
       "      <td>186</td>\n",
       "      <td>10</td>\n",
       "    </tr>\n",
       "    <tr>\n",
       "      <th>144</th>\n",
       "      <td>145</td>\n",
       "      <td>Tajikistan</td>\n",
       "      <td>21000</td>\n",
       "      <td>0</td>\n",
       "      <td>37.2</td>\n",
       "      <td>5.94</td>\n",
       "      <td>859</td>\n",
       "      <td>145</td>\n",
       "      <td>4</td>\n",
       "    </tr>\n",
       "    <tr>\n",
       "      <th>160</th>\n",
       "      <td>161</td>\n",
       "      <td>Lesotho</td>\n",
       "      <td>5001</td>\n",
       "      <td>0</td>\n",
       "      <td>36.9</td>\n",
       "      <td>5.68</td>\n",
       "      <td>861</td>\n",
       "      <td>152</td>\n",
       "      <td>4</td>\n",
       "    </tr>\n",
       "    <tr>\n",
       "      <th>136</th>\n",
       "      <td>137</td>\n",
       "      <td>Togo</td>\n",
       "      <td>15000</td>\n",
       "      <td>0</td>\n",
       "      <td>30.6</td>\n",
       "      <td>3.18</td>\n",
       "      <td>915</td>\n",
       "      <td>288</td>\n",
       "      <td>9</td>\n",
       "    </tr>\n",
       "  </tbody>\n",
       "</table>\n",
       "</div>"
      ],
      "text/plain": [
       "      S#                   Country  Daily Oil Consumption (Barrels)  \\\n",
       "164  165                   Burundi                             1499   \n",
       "152  153                   Somalia                             5600   \n",
       "114  115                Mozambique                            40000   \n",
       "174  175  Central African Republic                             2800   \n",
       "154  155              Sierra Leone                             6500   \n",
       "130  131                Madagascar                            18000   \n",
       "108  109               Afghanistan                            35000   \n",
       "127  128                  DR Congo                            21000   \n",
       "157  158                   Liberia                             8000   \n",
       "81    82                     Sudan                           140000   \n",
       "149  150                    Malawi                             6001   \n",
       "173  174                    Gambia                             3800   \n",
       "151  152                    Rwanda                             6700   \n",
       "117  118                    Uganda                            32001   \n",
       "90    91                     Yemen                            60000   \n",
       "132  133              Burkina Faso                            23000   \n",
       "134  135                      Mali                            21999   \n",
       "144  145                Tajikistan                            21000   \n",
       "160  161                   Lesotho                             5001   \n",
       "136  137                      Togo                            15000   \n",
       "\n",
       "     World Share  Yearly Gallons Per Capita  Price Per Gallon (USD)  \\\n",
       "164            0                        2.2                    5.09   \n",
       "152            0                        6.1                    3.03   \n",
       "114            0                       22.0                    4.94   \n",
       "174            0                        9.5                    9.06   \n",
       "154            0                       13.6                    5.17   \n",
       "130            0                       11.1                    3.86   \n",
       "108            0                       15.2                    3.62   \n",
       "127            0                        4.1                    4.43   \n",
       "157            0                       26.7                    4.90   \n",
       "81             0                       53.9                    4.80   \n",
       "149            0                        5.3                    5.12   \n",
       "173            0                       27.1                    5.04   \n",
       "151            0                        8.8                    5.36   \n",
       "117            0                       12.4                    5.70   \n",
       "90             0                       33.9                    1.96   \n",
       "132            0                       18.9                    4.33   \n",
       "134            0                       18.8                    4.61   \n",
       "144            0                       37.2                    5.94   \n",
       "160            0                       36.9                    5.68   \n",
       "136            0                       30.6                    3.18   \n",
       "\n",
       "     GDP Per Capita ( USD )  Gallons GDP Per Capita Can Buy  \\\n",
       "164                     274                              54   \n",
       "152                     309                             102   \n",
       "114                     449                              91   \n",
       "174                     477                              53   \n",
       "154                     485                              94   \n",
       "130                     496                             128   \n",
       "108                     509                             141   \n",
       "127                     557                             126   \n",
       "157                     583                             119   \n",
       "81                      596                             124   \n",
       "149                     625                             122   \n",
       "173                     787                             156   \n",
       "151                     798                             149   \n",
       "117                     817                             143   \n",
       "90                      824                             420   \n",
       "132                     831                             192   \n",
       "134                     859                             186   \n",
       "144                     859                             145   \n",
       "160                     861                             152   \n",
       "136                     915                             288   \n",
       "\n",
       "     xTimes Yearly Gallons Per Capita Buy  \n",
       "164                                    24  \n",
       "152                                    17  \n",
       "114                                     4  \n",
       "174                                     6  \n",
       "154                                     7  \n",
       "130                                    12  \n",
       "108                                     9  \n",
       "127                                    31  \n",
       "157                                     4  \n",
       "81                                      2  \n",
       "149                                    23  \n",
       "173                                     6  \n",
       "151                                    17  \n",
       "117                                    12  \n",
       "90                                     12  \n",
       "132                                    10  \n",
       "134                                    10  \n",
       "144                                     4  \n",
       "160                                     4  \n",
       "136                                     9  "
      ]
     },
     "execution_count": 202,
     "metadata": {},
     "output_type": "execute_result"
    }
   ],
   "source": [
    "least_gdp_capita = df.sort_values(by=['GDP Per Capita ( USD )']).head(20)\n",
    "least_gdp_capita"
   ]
  },
  {
   "cell_type": "markdown",
   "metadata": {},
   "source": [
    "Here the sort_values() method is used to sort the 'df' data frame using the column 'GDP per Capita'."
   ]
  },
  {
   "cell_type": "markdown",
   "metadata": {},
   "source": [
    "### These above are the 20 countries with least GDP per capita."
   ]
  },
  {
   "cell_type": "markdown",
   "metadata": {},
   "source": [
    "### Q2) Which countries have the least daily oil consumption?"
   ]
  },
  {
   "cell_type": "code",
   "execution_count": 203,
   "metadata": {},
   "outputs": [
    {
     "data": {
      "text/html": [
       "<div>\n",
       "<style scoped>\n",
       "    .dataframe tbody tr th:only-of-type {\n",
       "        vertical-align: middle;\n",
       "    }\n",
       "\n",
       "    .dataframe tbody tr th {\n",
       "        vertical-align: top;\n",
       "    }\n",
       "\n",
       "    .dataframe thead th {\n",
       "        text-align: right;\n",
       "    }\n",
       "</style>\n",
       "<table border=\"1\" class=\"dataframe\">\n",
       "  <thead>\n",
       "    <tr style=\"text-align: right;\">\n",
       "      <th></th>\n",
       "      <th>S#</th>\n",
       "      <th>Country</th>\n",
       "      <th>Daily Oil Consumption (Barrels)</th>\n",
       "      <th>World Share</th>\n",
       "      <th>Yearly Gallons Per Capita</th>\n",
       "      <th>Price Per Gallon (USD)</th>\n",
       "      <th>GDP Per Capita ( USD )</th>\n",
       "      <th>Gallons GDP Per Capita Can Buy</th>\n",
       "      <th>xTimes Yearly Gallons Per Capita Buy</th>\n",
       "    </tr>\n",
       "  </thead>\n",
       "  <tbody>\n",
       "    <tr>\n",
       "      <th>177</th>\n",
       "      <td>178</td>\n",
       "      <td>Niue</td>\n",
       "      <td>51</td>\n",
       "      <td>0</td>\n",
       "      <td>484.4</td>\n",
       "      <td>11.43</td>\n",
       "      <td>15586</td>\n",
       "      <td>1364</td>\n",
       "      <td>3</td>\n",
       "    </tr>\n",
       "    <tr>\n",
       "      <th>170</th>\n",
       "      <td>171</td>\n",
       "      <td>Saint Helena</td>\n",
       "      <td>70</td>\n",
       "      <td>0</td>\n",
       "      <td>180.2</td>\n",
       "      <td>5.53</td>\n",
       "      <td>7800</td>\n",
       "      <td>1410</td>\n",
       "      <td>8</td>\n",
       "    </tr>\n",
       "    <tr>\n",
       "      <th>179</th>\n",
       "      <td>180</td>\n",
       "      <td>Montserrat</td>\n",
       "      <td>400</td>\n",
       "      <td>0</td>\n",
       "      <td>1231.1</td>\n",
       "      <td>4.57</td>\n",
       "      <td>12589</td>\n",
       "      <td>2755</td>\n",
       "      <td>2</td>\n",
       "    </tr>\n",
       "    <tr>\n",
       "      <th>171</th>\n",
       "      <td>172</td>\n",
       "      <td>Kiribati</td>\n",
       "      <td>400</td>\n",
       "      <td>0</td>\n",
       "      <td>54.5</td>\n",
       "      <td>4.09</td>\n",
       "      <td>1671</td>\n",
       "      <td>409</td>\n",
       "      <td>7</td>\n",
       "    </tr>\n",
       "    <tr>\n",
       "      <th>178</th>\n",
       "      <td>179</td>\n",
       "      <td>Saint Pierre &amp; Miquelon</td>\n",
       "      <td>660</td>\n",
       "      <td>0</td>\n",
       "      <td>1705.1</td>\n",
       "      <td>8.27</td>\n",
       "      <td>34900</td>\n",
       "      <td>4220</td>\n",
       "      <td>2</td>\n",
       "    </tr>\n",
       "    <tr>\n",
       "      <th>180</th>\n",
       "      <td>181</td>\n",
       "      <td>Tonga</td>\n",
       "      <td>899</td>\n",
       "      <td>0</td>\n",
       "      <td>136.3</td>\n",
       "      <td>16.20</td>\n",
       "      <td>4903</td>\n",
       "      <td>303</td>\n",
       "      <td>2</td>\n",
       "    </tr>\n",
       "    <tr>\n",
       "      <th>169</th>\n",
       "      <td>170</td>\n",
       "      <td>Vanuatu</td>\n",
       "      <td>1100</td>\n",
       "      <td>0</td>\n",
       "      <td>60.6</td>\n",
       "      <td>4.92</td>\n",
       "      <td>2783</td>\n",
       "      <td>566</td>\n",
       "      <td>9</td>\n",
       "    </tr>\n",
       "    <tr>\n",
       "      <th>165</th>\n",
       "      <td>166</td>\n",
       "      <td>British Virgin Islands</td>\n",
       "      <td>1240</td>\n",
       "      <td>0</td>\n",
       "      <td>647.6</td>\n",
       "      <td>3.60</td>\n",
       "      <td>34246</td>\n",
       "      <td>9513</td>\n",
       "      <td>15</td>\n",
       "    </tr>\n",
       "    <tr>\n",
       "      <th>168</th>\n",
       "      <td>169</td>\n",
       "      <td>Comoros</td>\n",
       "      <td>1300</td>\n",
       "      <td>0</td>\n",
       "      <td>25.0</td>\n",
       "      <td>5.15</td>\n",
       "      <td>1403</td>\n",
       "      <td>272</td>\n",
       "      <td>11</td>\n",
       "    </tr>\n",
       "    <tr>\n",
       "      <th>175</th>\n",
       "      <td>176</td>\n",
       "      <td>Dominica</td>\n",
       "      <td>1301</td>\n",
       "      <td>0</td>\n",
       "      <td>279.7</td>\n",
       "      <td>4.78</td>\n",
       "      <td>7268</td>\n",
       "      <td>1521</td>\n",
       "      <td>5</td>\n",
       "    </tr>\n",
       "    <tr>\n",
       "      <th>164</th>\n",
       "      <td>165</td>\n",
       "      <td>Burundi</td>\n",
       "      <td>1499</td>\n",
       "      <td>0</td>\n",
       "      <td>2.2</td>\n",
       "      <td>5.09</td>\n",
       "      <td>274</td>\n",
       "      <td>54</td>\n",
       "      <td>24</td>\n",
       "    </tr>\n",
       "    <tr>\n",
       "      <th>172</th>\n",
       "      <td>173</td>\n",
       "      <td>Grenada</td>\n",
       "      <td>2000</td>\n",
       "      <td>0</td>\n",
       "      <td>278.1</td>\n",
       "      <td>4.62</td>\n",
       "      <td>9262</td>\n",
       "      <td>2005</td>\n",
       "      <td>7</td>\n",
       "    </tr>\n",
       "    <tr>\n",
       "      <th>174</th>\n",
       "      <td>175</td>\n",
       "      <td>Central African Republic</td>\n",
       "      <td>2800</td>\n",
       "      <td>0</td>\n",
       "      <td>9.5</td>\n",
       "      <td>9.06</td>\n",
       "      <td>477</td>\n",
       "      <td>53</td>\n",
       "      <td>6</td>\n",
       "    </tr>\n",
       "    <tr>\n",
       "      <th>167</th>\n",
       "      <td>168</td>\n",
       "      <td>Bhutan</td>\n",
       "      <td>3001</td>\n",
       "      <td>0</td>\n",
       "      <td>62.4</td>\n",
       "      <td>4.46</td>\n",
       "      <td>3122</td>\n",
       "      <td>700</td>\n",
       "      <td>11</td>\n",
       "    </tr>\n",
       "    <tr>\n",
       "      <th>173</th>\n",
       "      <td>174</td>\n",
       "      <td>Gambia</td>\n",
       "      <td>3800</td>\n",
       "      <td>0</td>\n",
       "      <td>27.1</td>\n",
       "      <td>5.04</td>\n",
       "      <td>787</td>\n",
       "      <td>156</td>\n",
       "      <td>6</td>\n",
       "    </tr>\n",
       "    <tr>\n",
       "      <th>176</th>\n",
       "      <td>177</td>\n",
       "      <td>Belize</td>\n",
       "      <td>4001</td>\n",
       "      <td>0</td>\n",
       "      <td>166.5</td>\n",
       "      <td>6.68</td>\n",
       "      <td>4436</td>\n",
       "      <td>664</td>\n",
       "      <td>4</td>\n",
       "    </tr>\n",
       "    <tr>\n",
       "      <th>166</th>\n",
       "      <td>167</td>\n",
       "      <td>Cayman Islands</td>\n",
       "      <td>4401</td>\n",
       "      <td>0</td>\n",
       "      <td>1078.3</td>\n",
       "      <td>6.27</td>\n",
       "      <td>85083</td>\n",
       "      <td>13570</td>\n",
       "      <td>13</td>\n",
       "    </tr>\n",
       "    <tr>\n",
       "      <th>160</th>\n",
       "      <td>161</td>\n",
       "      <td>Lesotho</td>\n",
       "      <td>5001</td>\n",
       "      <td>0</td>\n",
       "      <td>36.9</td>\n",
       "      <td>5.68</td>\n",
       "      <td>861</td>\n",
       "      <td>152</td>\n",
       "      <td>4</td>\n",
       "    </tr>\n",
       "    <tr>\n",
       "      <th>162</th>\n",
       "      <td>163</td>\n",
       "      <td>Cabo Verde</td>\n",
       "      <td>5600</td>\n",
       "      <td>0</td>\n",
       "      <td>161.6</td>\n",
       "      <td>6.86</td>\n",
       "      <td>3064</td>\n",
       "      <td>447</td>\n",
       "      <td>3</td>\n",
       "    </tr>\n",
       "    <tr>\n",
       "      <th>152</th>\n",
       "      <td>153</td>\n",
       "      <td>Somalia</td>\n",
       "      <td>5600</td>\n",
       "      <td>0</td>\n",
       "      <td>6.1</td>\n",
       "      <td>3.03</td>\n",
       "      <td>309</td>\n",
       "      <td>102</td>\n",
       "      <td>17</td>\n",
       "    </tr>\n",
       "  </tbody>\n",
       "</table>\n",
       "</div>"
      ],
      "text/plain": [
       "      S#                   Country  Daily Oil Consumption (Barrels)  \\\n",
       "177  178                      Niue                               51   \n",
       "170  171              Saint Helena                               70   \n",
       "179  180                Montserrat                              400   \n",
       "171  172                  Kiribati                              400   \n",
       "178  179   Saint Pierre & Miquelon                              660   \n",
       "180  181                     Tonga                              899   \n",
       "169  170                   Vanuatu                             1100   \n",
       "165  166    British Virgin Islands                             1240   \n",
       "168  169                   Comoros                             1300   \n",
       "175  176                  Dominica                             1301   \n",
       "164  165                   Burundi                             1499   \n",
       "172  173                   Grenada                             2000   \n",
       "174  175  Central African Republic                             2800   \n",
       "167  168                    Bhutan                             3001   \n",
       "173  174                    Gambia                             3800   \n",
       "176  177                    Belize                             4001   \n",
       "166  167            Cayman Islands                             4401   \n",
       "160  161                   Lesotho                             5001   \n",
       "162  163                Cabo Verde                             5600   \n",
       "152  153                   Somalia                             5600   \n",
       "\n",
       "     World Share  Yearly Gallons Per Capita  Price Per Gallon (USD)  \\\n",
       "177            0                      484.4                   11.43   \n",
       "170            0                      180.2                    5.53   \n",
       "179            0                     1231.1                    4.57   \n",
       "171            0                       54.5                    4.09   \n",
       "178            0                     1705.1                    8.27   \n",
       "180            0                      136.3                   16.20   \n",
       "169            0                       60.6                    4.92   \n",
       "165            0                      647.6                    3.60   \n",
       "168            0                       25.0                    5.15   \n",
       "175            0                      279.7                    4.78   \n",
       "164            0                        2.2                    5.09   \n",
       "172            0                      278.1                    4.62   \n",
       "174            0                        9.5                    9.06   \n",
       "167            0                       62.4                    4.46   \n",
       "173            0                       27.1                    5.04   \n",
       "176            0                      166.5                    6.68   \n",
       "166            0                     1078.3                    6.27   \n",
       "160            0                       36.9                    5.68   \n",
       "162            0                      161.6                    6.86   \n",
       "152            0                        6.1                    3.03   \n",
       "\n",
       "     GDP Per Capita ( USD )  Gallons GDP Per Capita Can Buy  \\\n",
       "177                   15586                            1364   \n",
       "170                    7800                            1410   \n",
       "179                   12589                            2755   \n",
       "171                    1671                             409   \n",
       "178                   34900                            4220   \n",
       "180                    4903                             303   \n",
       "169                    2783                             566   \n",
       "165                   34246                            9513   \n",
       "168                    1403                             272   \n",
       "175                    7268                            1521   \n",
       "164                     274                              54   \n",
       "172                    9262                            2005   \n",
       "174                     477                              53   \n",
       "167                    3122                             700   \n",
       "173                     787                             156   \n",
       "176                    4436                             664   \n",
       "166                   85083                           13570   \n",
       "160                     861                             152   \n",
       "162                    3064                             447   \n",
       "152                     309                             102   \n",
       "\n",
       "     xTimes Yearly Gallons Per Capita Buy  \n",
       "177                                     3  \n",
       "170                                     8  \n",
       "179                                     2  \n",
       "171                                     7  \n",
       "178                                     2  \n",
       "180                                     2  \n",
       "169                                     9  \n",
       "165                                    15  \n",
       "168                                    11  \n",
       "175                                     5  \n",
       "164                                    24  \n",
       "172                                     7  \n",
       "174                                     6  \n",
       "167                                    11  \n",
       "173                                     6  \n",
       "176                                     4  \n",
       "166                                    13  \n",
       "160                                     4  \n",
       "162                                     3  \n",
       "152                                    17  "
      ]
     },
     "execution_count": 203,
     "metadata": {},
     "output_type": "execute_result"
    }
   ],
   "source": [
    "least_consume = df.sort_values(by=['Daily Oil Consumption (Barrels)']).head(20)\n",
    "least_consume"
   ]
  },
  {
   "cell_type": "markdown",
   "metadata": {},
   "source": [
    "### Q3) Which countries belong to both the least gdp per capita group and least oil consumption group?"
   ]
  },
  {
   "cell_type": "code",
   "execution_count": 204,
   "metadata": {},
   "outputs": [],
   "source": [
    "list1 = list(set(least_consume.Country)&set(least_gdp_capita.Country))\n",
    "least_gdp_consume = df[df.Country.isin(list1)]"
   ]
  },
  {
   "cell_type": "code",
   "execution_count": 205,
   "metadata": {},
   "outputs": [
    {
     "data": {
      "text/html": [
       "<div>\n",
       "<style scoped>\n",
       "    .dataframe tbody tr th:only-of-type {\n",
       "        vertical-align: middle;\n",
       "    }\n",
       "\n",
       "    .dataframe tbody tr th {\n",
       "        vertical-align: top;\n",
       "    }\n",
       "\n",
       "    .dataframe thead th {\n",
       "        text-align: right;\n",
       "    }\n",
       "</style>\n",
       "<table border=\"1\" class=\"dataframe\">\n",
       "  <thead>\n",
       "    <tr style=\"text-align: right;\">\n",
       "      <th></th>\n",
       "      <th>S#</th>\n",
       "      <th>Country</th>\n",
       "      <th>Daily Oil Consumption (Barrels)</th>\n",
       "      <th>World Share</th>\n",
       "      <th>Yearly Gallons Per Capita</th>\n",
       "      <th>Price Per Gallon (USD)</th>\n",
       "      <th>GDP Per Capita ( USD )</th>\n",
       "      <th>Gallons GDP Per Capita Can Buy</th>\n",
       "      <th>xTimes Yearly Gallons Per Capita Buy</th>\n",
       "    </tr>\n",
       "  </thead>\n",
       "  <tbody>\n",
       "    <tr>\n",
       "      <th>152</th>\n",
       "      <td>153</td>\n",
       "      <td>Somalia</td>\n",
       "      <td>5600</td>\n",
       "      <td>0</td>\n",
       "      <td>6.1</td>\n",
       "      <td>3.03</td>\n",
       "      <td>309</td>\n",
       "      <td>102</td>\n",
       "      <td>17</td>\n",
       "    </tr>\n",
       "    <tr>\n",
       "      <th>160</th>\n",
       "      <td>161</td>\n",
       "      <td>Lesotho</td>\n",
       "      <td>5001</td>\n",
       "      <td>0</td>\n",
       "      <td>36.9</td>\n",
       "      <td>5.68</td>\n",
       "      <td>861</td>\n",
       "      <td>152</td>\n",
       "      <td>4</td>\n",
       "    </tr>\n",
       "    <tr>\n",
       "      <th>164</th>\n",
       "      <td>165</td>\n",
       "      <td>Burundi</td>\n",
       "      <td>1499</td>\n",
       "      <td>0</td>\n",
       "      <td>2.2</td>\n",
       "      <td>5.09</td>\n",
       "      <td>274</td>\n",
       "      <td>54</td>\n",
       "      <td>24</td>\n",
       "    </tr>\n",
       "    <tr>\n",
       "      <th>173</th>\n",
       "      <td>174</td>\n",
       "      <td>Gambia</td>\n",
       "      <td>3800</td>\n",
       "      <td>0</td>\n",
       "      <td>27.1</td>\n",
       "      <td>5.04</td>\n",
       "      <td>787</td>\n",
       "      <td>156</td>\n",
       "      <td>6</td>\n",
       "    </tr>\n",
       "    <tr>\n",
       "      <th>174</th>\n",
       "      <td>175</td>\n",
       "      <td>Central African Republic</td>\n",
       "      <td>2800</td>\n",
       "      <td>0</td>\n",
       "      <td>9.5</td>\n",
       "      <td>9.06</td>\n",
       "      <td>477</td>\n",
       "      <td>53</td>\n",
       "      <td>6</td>\n",
       "    </tr>\n",
       "  </tbody>\n",
       "</table>\n",
       "</div>"
      ],
      "text/plain": [
       "      S#                   Country  Daily Oil Consumption (Barrels)  \\\n",
       "152  153                   Somalia                             5600   \n",
       "160  161                   Lesotho                             5001   \n",
       "164  165                   Burundi                             1499   \n",
       "173  174                    Gambia                             3800   \n",
       "174  175  Central African Republic                             2800   \n",
       "\n",
       "     World Share  Yearly Gallons Per Capita  Price Per Gallon (USD)  \\\n",
       "152            0                        6.1                    3.03   \n",
       "160            0                       36.9                    5.68   \n",
       "164            0                        2.2                    5.09   \n",
       "173            0                       27.1                    5.04   \n",
       "174            0                        9.5                    9.06   \n",
       "\n",
       "     GDP Per Capita ( USD )  Gallons GDP Per Capita Can Buy  \\\n",
       "152                     309                             102   \n",
       "160                     861                             152   \n",
       "164                     274                              54   \n",
       "173                     787                             156   \n",
       "174                     477                              53   \n",
       "\n",
       "     xTimes Yearly Gallons Per Capita Buy  \n",
       "152                                    17  \n",
       "160                                     4  \n",
       "164                                    24  \n",
       "173                                     6  \n",
       "174                                     6  "
      ]
     },
     "execution_count": 205,
     "metadata": {},
     "output_type": "execute_result"
    }
   ],
   "source": [
    "least_gdp_consume"
   ]
  },
  {
   "cell_type": "markdown",
   "metadata": {},
   "source": [
    "### These are the set of countries with both the least GDP per capita and least oil consumption."
   ]
  },
  {
   "cell_type": "markdown",
   "metadata": {},
   "source": [
    "### Q4) Which countries pay the most for a gallon of oil?"
   ]
  },
  {
   "cell_type": "code",
   "execution_count": 206,
   "metadata": {},
   "outputs": [
    {
     "data": {
      "text/html": [
       "<div>\n",
       "<style scoped>\n",
       "    .dataframe tbody tr th:only-of-type {\n",
       "        vertical-align: middle;\n",
       "    }\n",
       "\n",
       "    .dataframe tbody tr th {\n",
       "        vertical-align: top;\n",
       "    }\n",
       "\n",
       "    .dataframe thead th {\n",
       "        text-align: right;\n",
       "    }\n",
       "</style>\n",
       "<table border=\"1\" class=\"dataframe\">\n",
       "  <thead>\n",
       "    <tr style=\"text-align: right;\">\n",
       "      <th></th>\n",
       "      <th>S#</th>\n",
       "      <th>Country</th>\n",
       "      <th>Daily Oil Consumption (Barrels)</th>\n",
       "      <th>World Share</th>\n",
       "      <th>Yearly Gallons Per Capita</th>\n",
       "      <th>Price Per Gallon (USD)</th>\n",
       "      <th>GDP Per Capita ( USD )</th>\n",
       "      <th>Gallons GDP Per Capita Can Buy</th>\n",
       "      <th>xTimes Yearly Gallons Per Capita Buy</th>\n",
       "    </tr>\n",
       "  </thead>\n",
       "  <tbody>\n",
       "    <tr>\n",
       "      <th>147</th>\n",
       "      <td>148</td>\n",
       "      <td>North Korea</td>\n",
       "      <td>18000</td>\n",
       "      <td>0</td>\n",
       "      <td>10.9</td>\n",
       "      <td>54.89</td>\n",
       "      <td>1300</td>\n",
       "      <td>24</td>\n",
       "      <td>2</td>\n",
       "    </tr>\n",
       "    <tr>\n",
       "      <th>180</th>\n",
       "      <td>181</td>\n",
       "      <td>Tonga</td>\n",
       "      <td>899</td>\n",
       "      <td>0</td>\n",
       "      <td>136.3</td>\n",
       "      <td>16.20</td>\n",
       "      <td>4903</td>\n",
       "      <td>303</td>\n",
       "      <td>2</td>\n",
       "    </tr>\n",
       "    <tr>\n",
       "      <th>177</th>\n",
       "      <td>178</td>\n",
       "      <td>Niue</td>\n",
       "      <td>51</td>\n",
       "      <td>0</td>\n",
       "      <td>484.4</td>\n",
       "      <td>11.43</td>\n",
       "      <td>15586</td>\n",
       "      <td>1364</td>\n",
       "      <td>3</td>\n",
       "    </tr>\n",
       "    <tr>\n",
       "      <th>40</th>\n",
       "      <td>41</td>\n",
       "      <td>Hong Kong</td>\n",
       "      <td>408491</td>\n",
       "      <td>0</td>\n",
       "      <td>864.5</td>\n",
       "      <td>11.35</td>\n",
       "      <td>46324</td>\n",
       "      <td>4081</td>\n",
       "      <td>5</td>\n",
       "    </tr>\n",
       "    <tr>\n",
       "      <th>58</th>\n",
       "      <td>59</td>\n",
       "      <td>Norway</td>\n",
       "      <td>204090</td>\n",
       "      <td>0</td>\n",
       "      <td>595.8</td>\n",
       "      <td>10.22</td>\n",
       "      <td>67390</td>\n",
       "      <td>6594</td>\n",
       "      <td>11</td>\n",
       "    </tr>\n",
       "    <tr>\n",
       "      <th>53</th>\n",
       "      <td>54</td>\n",
       "      <td>Denmark</td>\n",
       "      <td>158194</td>\n",
       "      <td>0</td>\n",
       "      <td>424.6</td>\n",
       "      <td>10.04</td>\n",
       "      <td>61063</td>\n",
       "      <td>6082</td>\n",
       "      <td>14</td>\n",
       "    </tr>\n",
       "    <tr>\n",
       "      <th>63</th>\n",
       "      <td>64</td>\n",
       "      <td>Finland</td>\n",
       "      <td>210030</td>\n",
       "      <td>0</td>\n",
       "      <td>585.7</td>\n",
       "      <td>10.01</td>\n",
       "      <td>48773</td>\n",
       "      <td>4872</td>\n",
       "      <td>8</td>\n",
       "    </tr>\n",
       "    <tr>\n",
       "      <th>141</th>\n",
       "      <td>142</td>\n",
       "      <td>Iceland</td>\n",
       "      <td>19090</td>\n",
       "      <td>0</td>\n",
       "      <td>880.9</td>\n",
       "      <td>9.83</td>\n",
       "      <td>59270</td>\n",
       "      <td>6030</td>\n",
       "      <td>7</td>\n",
       "    </tr>\n",
       "    <tr>\n",
       "      <th>47</th>\n",
       "      <td>48</td>\n",
       "      <td>Greece</td>\n",
       "      <td>296101</td>\n",
       "      <td>0</td>\n",
       "      <td>427.6</td>\n",
       "      <td>9.49</td>\n",
       "      <td>17623</td>\n",
       "      <td>1857</td>\n",
       "      <td>4</td>\n",
       "    </tr>\n",
       "    <tr>\n",
       "      <th>22</th>\n",
       "      <td>23</td>\n",
       "      <td>Netherlands</td>\n",
       "      <td>937098</td>\n",
       "      <td>1</td>\n",
       "      <td>846.0</td>\n",
       "      <td>9.33</td>\n",
       "      <td>52397</td>\n",
       "      <td>5616</td>\n",
       "      <td>7</td>\n",
       "    </tr>\n",
       "    <tr>\n",
       "      <th>174</th>\n",
       "      <td>175</td>\n",
       "      <td>Central African Republic</td>\n",
       "      <td>2800</td>\n",
       "      <td>0</td>\n",
       "      <td>9.5</td>\n",
       "      <td>9.06</td>\n",
       "      <td>477</td>\n",
       "      <td>53</td>\n",
       "      <td>6</td>\n",
       "    </tr>\n",
       "    <tr>\n",
       "      <th>15</th>\n",
       "      <td>16</td>\n",
       "      <td>Singapore</td>\n",
       "      <td>1357000</td>\n",
       "      <td>1</td>\n",
       "      <td>3679.5</td>\n",
       "      <td>8.71</td>\n",
       "      <td>59798</td>\n",
       "      <td>6865</td>\n",
       "      <td>2</td>\n",
       "    </tr>\n",
       "    <tr>\n",
       "      <th>43</th>\n",
       "      <td>44</td>\n",
       "      <td>Sweden</td>\n",
       "      <td>322109</td>\n",
       "      <td>0</td>\n",
       "      <td>502.0</td>\n",
       "      <td>8.70</td>\n",
       "      <td>52274</td>\n",
       "      <td>6009</td>\n",
       "      <td>12</td>\n",
       "    </tr>\n",
       "    <tr>\n",
       "      <th>64</th>\n",
       "      <td>65</td>\n",
       "      <td>Portugal</td>\n",
       "      <td>236866</td>\n",
       "      <td>0</td>\n",
       "      <td>351.7</td>\n",
       "      <td>8.55</td>\n",
       "      <td>22176</td>\n",
       "      <td>2594</td>\n",
       "      <td>7</td>\n",
       "    </tr>\n",
       "    <tr>\n",
       "      <th>14</th>\n",
       "      <td>15</td>\n",
       "      <td>United Kingdom</td>\n",
       "      <td>1583896</td>\n",
       "      <td>2</td>\n",
       "      <td>366.2</td>\n",
       "      <td>8.38</td>\n",
       "      <td>41125</td>\n",
       "      <td>4908</td>\n",
       "      <td>13</td>\n",
       "    </tr>\n",
       "    <tr>\n",
       "      <th>28</th>\n",
       "      <td>29</td>\n",
       "      <td>Belgium</td>\n",
       "      <td>631522</td>\n",
       "      <td>1</td>\n",
       "      <td>852.6</td>\n",
       "      <td>8.36</td>\n",
       "      <td>45159</td>\n",
       "      <td>5402</td>\n",
       "      <td>6</td>\n",
       "    </tr>\n",
       "    <tr>\n",
       "      <th>17</th>\n",
       "      <td>18</td>\n",
       "      <td>Spain</td>\n",
       "      <td>1290063</td>\n",
       "      <td>1</td>\n",
       "      <td>424.1</td>\n",
       "      <td>8.35</td>\n",
       "      <td>27063</td>\n",
       "      <td>3241</td>\n",
       "      <td>8</td>\n",
       "    </tr>\n",
       "    <tr>\n",
       "      <th>118</th>\n",
       "      <td>119</td>\n",
       "      <td>Estonia</td>\n",
       "      <td>28855</td>\n",
       "      <td>0</td>\n",
       "      <td>336.0</td>\n",
       "      <td>8.35</td>\n",
       "      <td>23027</td>\n",
       "      <td>2758</td>\n",
       "      <td>8</td>\n",
       "    </tr>\n",
       "    <tr>\n",
       "      <th>110</th>\n",
       "      <td>111</td>\n",
       "      <td>Latvia</td>\n",
       "      <td>37694</td>\n",
       "      <td>0</td>\n",
       "      <td>292.7</td>\n",
       "      <td>8.28</td>\n",
       "      <td>17726</td>\n",
       "      <td>2141</td>\n",
       "      <td>7</td>\n",
       "    </tr>\n",
       "    <tr>\n",
       "      <th>178</th>\n",
       "      <td>179</td>\n",
       "      <td>Saint Pierre &amp; Miquelon</td>\n",
       "      <td>660</td>\n",
       "      <td>0</td>\n",
       "      <td>1705.1</td>\n",
       "      <td>8.27</td>\n",
       "      <td>34900</td>\n",
       "      <td>4220</td>\n",
       "      <td>2</td>\n",
       "    </tr>\n",
       "  </tbody>\n",
       "</table>\n",
       "</div>"
      ],
      "text/plain": [
       "      S#                   Country  Daily Oil Consumption (Barrels)  \\\n",
       "147  148               North Korea                            18000   \n",
       "180  181                     Tonga                              899   \n",
       "177  178                      Niue                               51   \n",
       "40    41                 Hong Kong                           408491   \n",
       "58    59                    Norway                           204090   \n",
       "53    54                   Denmark                           158194   \n",
       "63    64                   Finland                           210030   \n",
       "141  142                   Iceland                            19090   \n",
       "47    48                    Greece                           296101   \n",
       "22    23               Netherlands                           937098   \n",
       "174  175  Central African Republic                             2800   \n",
       "15    16                 Singapore                          1357000   \n",
       "43    44                    Sweden                           322109   \n",
       "64    65                  Portugal                           236866   \n",
       "14    15            United Kingdom                          1583896   \n",
       "28    29                   Belgium                           631522   \n",
       "17    18                     Spain                          1290063   \n",
       "118  119                   Estonia                            28855   \n",
       "110  111                    Latvia                            37694   \n",
       "178  179   Saint Pierre & Miquelon                              660   \n",
       "\n",
       "     World Share  Yearly Gallons Per Capita  Price Per Gallon (USD)  \\\n",
       "147            0                       10.9                   54.89   \n",
       "180            0                      136.3                   16.20   \n",
       "177            0                      484.4                   11.43   \n",
       "40             0                      864.5                   11.35   \n",
       "58             0                      595.8                   10.22   \n",
       "53             0                      424.6                   10.04   \n",
       "63             0                      585.7                   10.01   \n",
       "141            0                      880.9                    9.83   \n",
       "47             0                      427.6                    9.49   \n",
       "22             1                      846.0                    9.33   \n",
       "174            0                        9.5                    9.06   \n",
       "15             1                     3679.5                    8.71   \n",
       "43             0                      502.0                    8.70   \n",
       "64             0                      351.7                    8.55   \n",
       "14             2                      366.2                    8.38   \n",
       "28             1                      852.6                    8.36   \n",
       "17             1                      424.1                    8.35   \n",
       "118            0                      336.0                    8.35   \n",
       "110            0                      292.7                    8.28   \n",
       "178            0                     1705.1                    8.27   \n",
       "\n",
       "     GDP Per Capita ( USD )  Gallons GDP Per Capita Can Buy  \\\n",
       "147                    1300                              24   \n",
       "180                    4903                             303   \n",
       "177                   15586                            1364   \n",
       "40                    46324                            4081   \n",
       "58                    67390                            6594   \n",
       "53                    61063                            6082   \n",
       "63                    48773                            4872   \n",
       "141                   59270                            6030   \n",
       "47                    17623                            1857   \n",
       "22                    52397                            5616   \n",
       "174                     477                              53   \n",
       "15                    59798                            6865   \n",
       "43                    52274                            6009   \n",
       "64                    22176                            2594   \n",
       "14                    41125                            4908   \n",
       "28                    45159                            5402   \n",
       "17                    27063                            3241   \n",
       "118                   23027                            2758   \n",
       "110                   17726                            2141   \n",
       "178                   34900                            4220   \n",
       "\n",
       "     xTimes Yearly Gallons Per Capita Buy  \n",
       "147                                     2  \n",
       "180                                     2  \n",
       "177                                     3  \n",
       "40                                      5  \n",
       "58                                     11  \n",
       "53                                     14  \n",
       "63                                      8  \n",
       "141                                     7  \n",
       "47                                      4  \n",
       "22                                      7  \n",
       "174                                     6  \n",
       "15                                      2  \n",
       "43                                     12  \n",
       "64                                      7  \n",
       "14                                     13  \n",
       "28                                      6  \n",
       "17                                      8  \n",
       "118                                     8  \n",
       "110                                     7  \n",
       "178                                     2  "
      ]
     },
     "execution_count": 206,
     "metadata": {},
     "output_type": "execute_result"
    }
   ],
   "source": [
    "most_priced = df.sort_values(by = ['Price Per Gallon (USD)'],ascending = False).head(20)\n",
    "most_priced"
   ]
  },
  {
   "cell_type": "markdown",
   "metadata": {},
   "source": [
    "### We have the list of countries that pay the most for a gallon of oil.\n",
    "### North Korea pays the most, almost 10 times more than USA and India."
   ]
  },
  {
   "cell_type": "markdown",
   "metadata": {},
   "source": [
    "### Q5) Which among the countries with the highest price for oil, consumes the most oil daily?"
   ]
  },
  {
   "cell_type": "code",
   "execution_count": 207,
   "metadata": {},
   "outputs": [
    {
     "data": {
      "text/html": [
       "<div>\n",
       "<style scoped>\n",
       "    .dataframe tbody tr th:only-of-type {\n",
       "        vertical-align: middle;\n",
       "    }\n",
       "\n",
       "    .dataframe tbody tr th {\n",
       "        vertical-align: top;\n",
       "    }\n",
       "\n",
       "    .dataframe thead th {\n",
       "        text-align: right;\n",
       "    }\n",
       "</style>\n",
       "<table border=\"1\" class=\"dataframe\">\n",
       "  <thead>\n",
       "    <tr style=\"text-align: right;\">\n",
       "      <th></th>\n",
       "      <th>S#</th>\n",
       "      <th>Country</th>\n",
       "      <th>Daily Oil Consumption (Barrels)</th>\n",
       "      <th>World Share</th>\n",
       "      <th>Yearly Gallons Per Capita</th>\n",
       "      <th>Price Per Gallon (USD)</th>\n",
       "      <th>GDP Per Capita ( USD )</th>\n",
       "      <th>Gallons GDP Per Capita Can Buy</th>\n",
       "      <th>xTimes Yearly Gallons Per Capita Buy</th>\n",
       "    </tr>\n",
       "  </thead>\n",
       "  <tbody>\n",
       "    <tr>\n",
       "      <th>14</th>\n",
       "      <td>15</td>\n",
       "      <td>United Kingdom</td>\n",
       "      <td>1583896</td>\n",
       "      <td>2</td>\n",
       "      <td>366.2</td>\n",
       "      <td>8.38</td>\n",
       "      <td>41125</td>\n",
       "      <td>4908</td>\n",
       "      <td>13</td>\n",
       "    </tr>\n",
       "    <tr>\n",
       "      <th>15</th>\n",
       "      <td>16</td>\n",
       "      <td>Singapore</td>\n",
       "      <td>1357000</td>\n",
       "      <td>1</td>\n",
       "      <td>3679.5</td>\n",
       "      <td>8.71</td>\n",
       "      <td>59798</td>\n",
       "      <td>6865</td>\n",
       "      <td>2</td>\n",
       "    </tr>\n",
       "    <tr>\n",
       "      <th>17</th>\n",
       "      <td>18</td>\n",
       "      <td>Spain</td>\n",
       "      <td>1290063</td>\n",
       "      <td>1</td>\n",
       "      <td>424.1</td>\n",
       "      <td>8.35</td>\n",
       "      <td>27063</td>\n",
       "      <td>3241</td>\n",
       "      <td>8</td>\n",
       "    </tr>\n",
       "    <tr>\n",
       "      <th>22</th>\n",
       "      <td>23</td>\n",
       "      <td>Netherlands</td>\n",
       "      <td>937098</td>\n",
       "      <td>1</td>\n",
       "      <td>846.0</td>\n",
       "      <td>9.33</td>\n",
       "      <td>52397</td>\n",
       "      <td>5616</td>\n",
       "      <td>7</td>\n",
       "    </tr>\n",
       "    <tr>\n",
       "      <th>28</th>\n",
       "      <td>29</td>\n",
       "      <td>Belgium</td>\n",
       "      <td>631522</td>\n",
       "      <td>1</td>\n",
       "      <td>852.6</td>\n",
       "      <td>8.36</td>\n",
       "      <td>45159</td>\n",
       "      <td>5402</td>\n",
       "      <td>6</td>\n",
       "    </tr>\n",
       "    <tr>\n",
       "      <th>40</th>\n",
       "      <td>41</td>\n",
       "      <td>Hong Kong</td>\n",
       "      <td>408491</td>\n",
       "      <td>0</td>\n",
       "      <td>864.5</td>\n",
       "      <td>11.35</td>\n",
       "      <td>46324</td>\n",
       "      <td>4081</td>\n",
       "      <td>5</td>\n",
       "    </tr>\n",
       "    <tr>\n",
       "      <th>43</th>\n",
       "      <td>44</td>\n",
       "      <td>Sweden</td>\n",
       "      <td>322109</td>\n",
       "      <td>0</td>\n",
       "      <td>502.0</td>\n",
       "      <td>8.70</td>\n",
       "      <td>52274</td>\n",
       "      <td>6009</td>\n",
       "      <td>12</td>\n",
       "    </tr>\n",
       "    <tr>\n",
       "      <th>47</th>\n",
       "      <td>48</td>\n",
       "      <td>Greece</td>\n",
       "      <td>296101</td>\n",
       "      <td>0</td>\n",
       "      <td>427.6</td>\n",
       "      <td>9.49</td>\n",
       "      <td>17623</td>\n",
       "      <td>1857</td>\n",
       "      <td>4</td>\n",
       "    </tr>\n",
       "    <tr>\n",
       "      <th>64</th>\n",
       "      <td>65</td>\n",
       "      <td>Portugal</td>\n",
       "      <td>236866</td>\n",
       "      <td>0</td>\n",
       "      <td>351.7</td>\n",
       "      <td>8.55</td>\n",
       "      <td>22176</td>\n",
       "      <td>2594</td>\n",
       "      <td>7</td>\n",
       "    </tr>\n",
       "    <tr>\n",
       "      <th>63</th>\n",
       "      <td>64</td>\n",
       "      <td>Finland</td>\n",
       "      <td>210030</td>\n",
       "      <td>0</td>\n",
       "      <td>585.7</td>\n",
       "      <td>10.01</td>\n",
       "      <td>48773</td>\n",
       "      <td>4872</td>\n",
       "      <td>8</td>\n",
       "    </tr>\n",
       "  </tbody>\n",
       "</table>\n",
       "</div>"
      ],
      "text/plain": [
       "    S#         Country  Daily Oil Consumption (Barrels)  World Share  \\\n",
       "14  15  United Kingdom                          1583896            2   \n",
       "15  16       Singapore                          1357000            1   \n",
       "17  18           Spain                          1290063            1   \n",
       "22  23     Netherlands                           937098            1   \n",
       "28  29         Belgium                           631522            1   \n",
       "40  41       Hong Kong                           408491            0   \n",
       "43  44          Sweden                           322109            0   \n",
       "47  48          Greece                           296101            0   \n",
       "64  65        Portugal                           236866            0   \n",
       "63  64         Finland                           210030            0   \n",
       "\n",
       "    Yearly Gallons Per Capita  Price Per Gallon (USD)  GDP Per Capita ( USD )  \\\n",
       "14                      366.2                    8.38                   41125   \n",
       "15                     3679.5                    8.71                   59798   \n",
       "17                      424.1                    8.35                   27063   \n",
       "22                      846.0                    9.33                   52397   \n",
       "28                      852.6                    8.36                   45159   \n",
       "40                      864.5                   11.35                   46324   \n",
       "43                      502.0                    8.70                   52274   \n",
       "47                      427.6                    9.49                   17623   \n",
       "64                      351.7                    8.55                   22176   \n",
       "63                      585.7                   10.01                   48773   \n",
       "\n",
       "    Gallons GDP Per Capita Can Buy  xTimes Yearly Gallons Per Capita Buy  \n",
       "14                            4908                                    13  \n",
       "15                            6865                                     2  \n",
       "17                            3241                                     8  \n",
       "22                            5616                                     7  \n",
       "28                            5402                                     6  \n",
       "40                            4081                                     5  \n",
       "43                            6009                                    12  \n",
       "47                            1857                                     4  \n",
       "64                            2594                                     7  \n",
       "63                            4872                                     8  "
      ]
     },
     "execution_count": 207,
     "metadata": {},
     "output_type": "execute_result"
    }
   ],
   "source": [
    "most_priced_most_consume = most_priced.sort_values(by=['Daily Oil Consumption (Barrels)'],ascending=False).head(10)\n",
    "most_priced_most_consume"
   ]
  },
  {
   "cell_type": "markdown",
   "metadata": {},
   "source": [
    "### As we can see, UK, Singapore and Spain are the ones with the most consumption even after the high prices."
   ]
  },
  {
   "cell_type": "markdown",
   "metadata": {},
   "source": [
    "Let us save and upload our work to Jovian before continuing."
   ]
  },
  {
   "cell_type": "code",
   "execution_count": 208,
   "metadata": {},
   "outputs": [],
   "source": [
    "import jovian"
   ]
  },
  {
   "cell_type": "code",
   "execution_count": 209,
   "metadata": {},
   "outputs": [
    {
     "data": {
      "application/javascript": [
       "window.require && require([\"base/js/namespace\"],function(Jupyter){Jupyter.notebook.save_checkpoint()})"
      ],
      "text/plain": [
       "<IPython.core.display.Javascript object>"
      ]
     },
     "metadata": {},
     "output_type": "display_data"
    },
    {
     "name": "stdout",
     "output_type": "stream",
     "text": [
      "[jovian] Updating notebook \"therahulbhagat/petrol-gas-world-prices\" on https://jovian.ai\u001b[0m\n",
      "[jovian] Committed successfully! https://jovian.ai/therahulbhagat/petrol-gas-world-prices\u001b[0m\n"
     ]
    },
    {
     "data": {
      "text/plain": [
       "'https://jovian.ai/therahulbhagat/petrol-gas-world-prices'"
      ]
     },
     "execution_count": 209,
     "metadata": {},
     "output_type": "execute_result"
    }
   ],
   "source": [
    "jovian.commit()"
   ]
  },
  {
   "cell_type": "markdown",
   "metadata": {},
   "source": [
    "## Inferences and Conclusion\n",
    "> - We see only a strong positive correlation between \"GDP per Capita\" and \"Yearly Gallons per Capita\" which is to be expected as the more money people have the more they can consume.\n",
    "> - We see that USA and China consumes more than 50% of the Oil Produced per day. \n",
    "> - China and India have a way larger population than USA and the rest of the countries, even then USA consumes more oil than India and China combined.\n",
    "> - India, Japan and shockingly Russia, one of the leading exporter of Oil, account for less than 20% together.\n",
    "> - Saudi Arabia and Russia have the lowest price for oil, owing to the fact that they are leading oil exporters. \n",
    "> - Countries like [Brazil,South Korea,Canada and Germany] have high prices and low consumption compared to other countries in the list. \n",
    "> - USA has a lower price per gallon than China and is comparable to India, while it's consumption is way more than both China and India combined.\n",
    "> - USA has the highest GDP per capita, followed by Germany and Canada, but Canada and Germany do not consume as much oil as USA.\n",
    "> - India and China have low GDP per capita among these countries which could be because of their large population.\n",
    "> - Countries with lower populations are the ones with high GDP per capita.\n",
    "> - We see that Saudi Arabia,Brazil,Canada and India spent the most percentage of their GDP on oil.\n",
    "> - Japan,China,USA and Germany spend less percentage of their GDP on oil.(But their GDP is also High)\n",
    "> - North Korea pays the most, almost 10 times more than USA and India.\n",
    "> - UK, Singapore and Spain are the ones with the most consumption even after the high prices."
   ]
  },
  {
   "cell_type": "code",
   "execution_count": 210,
   "metadata": {},
   "outputs": [],
   "source": [
    "import jovian"
   ]
  },
  {
   "cell_type": "code",
   "execution_count": 211,
   "metadata": {},
   "outputs": [
    {
     "data": {
      "application/javascript": [
       "window.require && require([\"base/js/namespace\"],function(Jupyter){Jupyter.notebook.save_checkpoint()})"
      ],
      "text/plain": [
       "<IPython.core.display.Javascript object>"
      ]
     },
     "metadata": {},
     "output_type": "display_data"
    },
    {
     "name": "stdout",
     "output_type": "stream",
     "text": [
      "[jovian] Updating notebook \"therahulbhagat/petrol-gas-world-prices\" on https://jovian.ai\u001b[0m\n",
      "[jovian] Committed successfully! https://jovian.ai/therahulbhagat/petrol-gas-world-prices\u001b[0m\n"
     ]
    },
    {
     "data": {
      "text/plain": [
       "'https://jovian.ai/therahulbhagat/petrol-gas-world-prices'"
      ]
     },
     "execution_count": 211,
     "metadata": {},
     "output_type": "execute_result"
    }
   ],
   "source": [
    "jovian.commit()"
   ]
  },
  {
   "cell_type": "markdown",
   "metadata": {},
   "source": [
    "## References and Future Work\n",
    "\n",
    "#### This dataset can be merged with a population dataset to get more results. This dataset can be used to by the oil-price controllers(Russia,Saudi Arabia,etc) to manage the global oil trade better. This dataset can give us a measure regarding the skewness of the consumption of oil by developed countries, even though their population are not that high."
   ]
  },
  {
   "cell_type": "code",
   "execution_count": 214,
   "metadata": {},
   "outputs": [],
   "source": [
    "import jovian"
   ]
  },
  {
   "cell_type": "code",
   "execution_count": null,
   "metadata": {
    "scrolled": true
   },
   "outputs": [
    {
     "data": {
      "application/javascript": [
       "window.require && require([\"base/js/namespace\"],function(Jupyter){Jupyter.notebook.save_checkpoint()})"
      ],
      "text/plain": [
       "<IPython.core.display.Javascript object>"
      ]
     },
     "metadata": {},
     "output_type": "display_data"
    }
   ],
   "source": [
    "jovian.commit()"
   ]
  },
  {
   "cell_type": "code",
   "execution_count": null,
   "metadata": {},
   "outputs": [],
   "source": []
  }
 ],
 "metadata": {
  "language_info": {
   "codemirror_mode": {
    "name": "ipython",
    "version": 3
   },
   "file_extension": ".py",
   "mimetype": "text/x-python",
   "name": "python",
   "nbconvert_exporter": "python",
   "pygments_lexer": "ipython3",
   "version": "3.9.6"
  }
 },
 "nbformat": 4,
 "nbformat_minor": 4
}